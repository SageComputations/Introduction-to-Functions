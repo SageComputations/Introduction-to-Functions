{
 "cells": [
  {
   "cell_type": "code",
   "execution_count": 1,
   "id": "fa010d2f",
   "metadata": {},
   "outputs": [],
   "source": [
    "# **kwargs"
   ]
  },
  {
   "cell_type": "code",
   "execution_count": 2,
   "id": "1cf0c35a",
   "metadata": {},
   "outputs": [],
   "source": [
    "def student_details(**kwargs):\n",
    "    \n",
    "    print(type(kwargs))\n",
    "    print(kwargs)"
   ]
  },
  {
   "cell_type": "markdown",
   "id": "3227f848",
   "metadata": {},
   "source": [
    "## **kwargs - packs the variable length arguments into a dictionary not a tuple"
   ]
  },
  {
   "cell_type": "code",
   "execution_count": 3,
   "id": "043730a6",
   "metadata": {},
   "outputs": [
    {
     "name": "stdout",
     "output_type": "stream",
     "text": [
      "<class 'dict'>\n",
      "{}\n"
     ]
    }
   ],
   "source": [
    "student_details()"
   ]
  },
  {
   "cell_type": "code",
   "execution_count": 4,
   "id": "4e677eb2",
   "metadata": {},
   "outputs": [
    {
     "name": "stdout",
     "output_type": "stream",
     "text": [
      "<class 'dict'>\n",
      "{'name': 'John'}\n"
     ]
    }
   ],
   "source": [
    "student_details(name = \"John\")"
   ]
  },
  {
   "cell_type": "code",
   "execution_count": 5,
   "id": "70ea2df5",
   "metadata": {},
   "outputs": [
    {
     "name": "stdout",
     "output_type": "stream",
     "text": [
      "<class 'dict'>\n",
      "{'name': 'John', 'age': 18}\n"
     ]
    }
   ],
   "source": [
    "student_details(name = \"John\", age = 18)"
   ]
  },
  {
   "cell_type": "code",
   "execution_count": 6,
   "id": "30a16283",
   "metadata": {},
   "outputs": [
    {
     "name": "stdout",
     "output_type": "stream",
     "text": [
      "<class 'dict'>\n",
      "{'name': 'John', 'age': 18, 'college': 'Boston University'}\n"
     ]
    }
   ],
   "source": [
    "student_details(name=\"John\", age = 18, college = \"Boston University\")"
   ]
  },
  {
   "cell_type": "code",
   "execution_count": 7,
   "id": "ff66e28d",
   "metadata": {},
   "outputs": [],
   "source": [
    "def student_details(**details):\n",
    "    \n",
    "    for key, value in details.items():\n",
    "        print(key,value)"
   ]
  },
  {
   "cell_type": "code",
   "execution_count": 8,
   "id": "bc7361d1",
   "metadata": {},
   "outputs": [
    {
     "name": "stdout",
     "output_type": "stream",
     "text": [
      "name John\n",
      "age 18\n",
      "college Boston University\n"
     ]
    }
   ],
   "source": [
    "student_details(name = \"John\", age = 18, college = \"Boston University\")"
   ]
  },
  {
   "cell_type": "code",
   "execution_count": 9,
   "id": "cb8bc17c",
   "metadata": {},
   "outputs": [],
   "source": [
    "details_dictionary = {'name':'John','age':18,'college':'Boston University'}"
   ]
  },
  {
   "cell_type": "code",
   "execution_count": 10,
   "id": "49ff19f5",
   "metadata": {},
   "outputs": [
    {
     "ename": "TypeError",
     "evalue": "student_details() takes 0 positional arguments but 1 was given",
     "output_type": "error",
     "traceback": [
      "\u001b[1;31m---------------------------------------------------------------------------\u001b[0m",
      "\u001b[1;31mTypeError\u001b[0m                                 Traceback (most recent call last)",
      "Input \u001b[1;32mIn [10]\u001b[0m, in \u001b[0;36m<cell line: 1>\u001b[1;34m()\u001b[0m\n\u001b[1;32m----> 1\u001b[0m \u001b[43mstudent_details\u001b[49m\u001b[43m(\u001b[49m\u001b[43mdetails_dictionary\u001b[49m\u001b[43m)\u001b[49m\n",
      "\u001b[1;31mTypeError\u001b[0m: student_details() takes 0 positional arguments but 1 was given"
     ]
    }
   ],
   "source": [
    "student_details(details_dictionary)"
   ]
  },
  {
   "cell_type": "code",
   "execution_count": 11,
   "id": "9404fe02",
   "metadata": {},
   "outputs": [
    {
     "name": "stdout",
     "output_type": "stream",
     "text": [
      "name John\n",
      "age 18\n",
      "college Boston University\n"
     ]
    }
   ],
   "source": [
    "student_details(**details_dictionary)"
   ]
  },
  {
   "cell_type": "markdown",
   "id": "32001f1b",
   "metadata": {},
   "source": [
    "# **details_dictionary First unpacks the individual elements in the dictionary and pass them in the form of keyword arguments in the student_details function"
   ]
  },
  {
   "cell_type": "code",
   "execution_count": 13,
   "id": "c4c2e1a1",
   "metadata": {},
   "outputs": [],
   "source": [
    "def student_details(**details):\n",
    "    \n",
    "    if 'name' in details:\n",
    "        print('Name: ',details['name'])\n",
    "        \n",
    "    if 'age' in details:\n",
    "        print('Age: ', details['age'])\n",
    "        \n",
    "    if 'college' in details:\n",
    "        print(\"College: \", details['college'])"
   ]
  },
  {
   "cell_type": "code",
   "execution_count": 14,
   "id": "225bc853",
   "metadata": {},
   "outputs": [
    {
     "name": "stdout",
     "output_type": "stream",
     "text": [
      "Name:  John\n"
     ]
    }
   ],
   "source": [
    "student_details(name = 'John')"
   ]
  },
  {
   "cell_type": "code",
   "execution_count": 15,
   "id": "06320a4b",
   "metadata": {},
   "outputs": [
    {
     "name": "stdout",
     "output_type": "stream",
     "text": [
      "Name:  John\n",
      "College:  Boston University\n"
     ]
    }
   ],
   "source": [
    "student_details(name='John', college='Boston University')"
   ]
  },
  {
   "cell_type": "code",
   "execution_count": 16,
   "id": "e5228eeb",
   "metadata": {},
   "outputs": [
    {
     "name": "stdout",
     "output_type": "stream",
     "text": [
      "Name:  John\n",
      "Age:  22\n",
      "College:  Boston University\n"
     ]
    }
   ],
   "source": [
    "student_details(name='John', college='Boston University', age = 22)"
   ]
  },
  {
   "cell_type": "code",
   "execution_count": 17,
   "id": "3fc915b5",
   "metadata": {},
   "outputs": [],
   "source": [
    "def students_in_college(*student_names, **college_details):\n",
    "    print(\"Students--\")\n",
    "    for s in student_names:\n",
    "        print(s)\n",
    "        \n",
    "    print()\n",
    "    \n",
    "    print(\"College Details--\")\n",
    "    for key,value in college_details.items():\n",
    "        print(key,value)"
   ]
  },
  {
   "cell_type": "code",
   "execution_count": 18,
   "id": "3208d61b",
   "metadata": {},
   "outputs": [
    {
     "name": "stdout",
     "output_type": "stream",
     "text": [
      "Students--\n",
      "Nitin\n",
      "Amit\n",
      "Kapil\n",
      "\n",
      "College Details--\n",
      "name IIM\n",
      "city Kolkata\n"
     ]
    }
   ],
   "source": [
    "students_in_college(\"Nitin\",\"Amit\",\"Kapil\", name = \"IIM\", city = \"Kolkata\")"
   ]
  },
  {
   "cell_type": "code",
   "execution_count": null,
   "id": "67feeb7c",
   "metadata": {},
   "outputs": [],
   "source": []
  }
 ],
 "metadata": {
  "kernelspec": {
   "display_name": "Python 3 (ipykernel)",
   "language": "python",
   "name": "python3"
  },
  "language_info": {
   "codemirror_mode": {
    "name": "ipython",
    "version": 3
   },
   "file_extension": ".py",
   "mimetype": "text/x-python",
   "name": "python",
   "nbconvert_exporter": "python",
   "pygments_lexer": "ipython3",
   "version": "3.9.12"
  }
 },
 "nbformat": 4,
 "nbformat_minor": 5
}
