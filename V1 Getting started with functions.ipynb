{
 "cells": [
  {
   "cell_type": "markdown",
   "id": "e25f9186",
   "metadata": {},
   "source": [
    "# How python facilitates code reuse using functions? How to define functions? pass arguments into functions and extract return values from these functions?\n",
    "# Functions that change the state of the program,that is, have observable effects other than their return values, are said to have side effects.\n",
    "# Functions with side effects are hard to parallelize and use in a distributed environment.\n",
    "\n",
    "\n",
    "# You will learn correct ways of returning values from functions, as well as of invoking functions using both positional and keyword arguments.\n",
    "\n",
    "\n",
    "# Keyword arguments, also known as named arguments, are a great way of making the intent behind function invocation absolutely explicit.\n",
    "# They also help prevent especially hard to detect bugs in programs."
   ]
  },
  {
   "cell_type": "code",
   "execution_count": 1,
   "id": "7eb275a0",
   "metadata": {},
   "outputs": [
    {
     "name": "stdout",
     "output_type": "stream",
     "text": [
      "My name is Anand\n",
      "I live in India\n",
      "I am a data scientist and I love what I do\n"
     ]
    }
   ],
   "source": [
    "print(\"My name is Anand\")\n",
    "print(\"I live in India\")\n",
    "print(\"I am a data scientist and I love what I do\")"
   ]
  },
  {
   "cell_type": "code",
   "execution_count": 2,
   "id": "f5d33183",
   "metadata": {},
   "outputs": [],
   "source": [
    "#Business card function\n",
    "\n",
    "def my_introduction():\n",
    "    print(\"My name is Anand\")\n",
    "    print(\"I live in India\")\n",
    "    print(\"I am a data scientist and I love what I do\")"
   ]
  },
  {
   "cell_type": "markdown",
   "id": "0288034c",
   "metadata": {},
   "source": [
    "# Function code is not executed when defined\n",
    "# The function has to be invoked to run the code"
   ]
  },
  {
   "cell_type": "code",
   "execution_count": 3,
   "id": "b992c936",
   "metadata": {},
   "outputs": [
    {
     "name": "stdout",
     "output_type": "stream",
     "text": [
      "My name is Anand\n",
      "I live in India\n",
      "I am a data scientist and I love what I do\n"
     ]
    }
   ],
   "source": [
    "my_introduction()"
   ]
  },
  {
   "cell_type": "code",
   "execution_count": 4,
   "id": "b944b294",
   "metadata": {},
   "outputs": [
    {
     "name": "stdout",
     "output_type": "stream",
     "text": [
      "My name is Anand\n",
      "I live in India\n",
      "I am a data scientist and I love what I do\n"
     ]
    }
   ],
   "source": [
    "my_introduction()"
   ]
  },
  {
   "cell_type": "code",
   "execution_count": 5,
   "id": "1cb44f7e",
   "metadata": {},
   "outputs": [
    {
     "name": "stdout",
     "output_type": "stream",
     "text": [
      "This is outside the function\n"
     ]
    }
   ],
   "source": [
    "def hello_world():\n",
    "    print(\"Welcome to Python!\")\n",
    "    \n",
    "print(\"This is outside the function\")"
   ]
  },
  {
   "cell_type": "code",
   "execution_count": 6,
   "id": "0895566b",
   "metadata": {},
   "outputs": [
    {
     "name": "stdout",
     "output_type": "stream",
     "text": [
      "Welcome to Python!\n"
     ]
    }
   ],
   "source": [
    "hello_world()"
   ]
  },
  {
   "cell_type": "code",
   "execution_count": 7,
   "id": "37c15581",
   "metadata": {},
   "outputs": [
    {
     "ename": "NameError",
     "evalue": "name 'my_new_function' is not defined",
     "output_type": "error",
     "traceback": [
      "\u001b[1;31m---------------------------------------------------------------------------\u001b[0m",
      "\u001b[1;31mNameError\u001b[0m                                 Traceback (most recent call last)",
      "Input \u001b[1;32mIn [7]\u001b[0m, in \u001b[0;36m<cell line: 1>\u001b[1;34m()\u001b[0m\n\u001b[1;32m----> 1\u001b[0m \u001b[43mmy_new_function\u001b[49m()\n",
      "\u001b[1;31mNameError\u001b[0m: name 'my_new_function' is not defined"
     ]
    }
   ],
   "source": [
    "my_new_function()"
   ]
  },
  {
   "cell_type": "code",
   "execution_count": 8,
   "id": "f512adac",
   "metadata": {},
   "outputs": [
    {
     "name": "stdout",
     "output_type": "stream",
     "text": [
      "This is now defined\n"
     ]
    }
   ],
   "source": [
    "def my_new_function():\n",
    "    print(\"This is now defined\")\n",
    "    \n",
    "my_new_function()"
   ]
  },
  {
   "cell_type": "code",
   "execution_count": null,
   "id": "e14d042e",
   "metadata": {},
   "outputs": [],
   "source": []
  }
 ],
 "metadata": {
  "kernelspec": {
   "display_name": "Python 3 (ipykernel)",
   "language": "python",
   "name": "python3"
  },
  "language_info": {
   "codemirror_mode": {
    "name": "ipython",
    "version": 3
   },
   "file_extension": ".py",
   "mimetype": "text/x-python",
   "name": "python",
   "nbconvert_exporter": "python",
   "pygments_lexer": "ipython3",
   "version": "3.9.12"
  }
 },
 "nbformat": 4,
 "nbformat_minor": 5
}
