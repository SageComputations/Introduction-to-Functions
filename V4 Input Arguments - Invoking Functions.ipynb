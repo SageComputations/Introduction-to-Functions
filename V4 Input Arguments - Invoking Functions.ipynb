{
 "cells": [
  {
   "cell_type": "code",
   "execution_count": 1,
   "id": "6238b933",
   "metadata": {},
   "outputs": [],
   "source": [
    "def my_introduction():\n",
    "    print(\"Hello, my name is Harry\")\n",
    "    print(\"I live and work in Hogwarts\")"
   ]
  },
  {
   "cell_type": "code",
   "execution_count": 2,
   "id": "15c1e9c3",
   "metadata": {},
   "outputs": [
    {
     "name": "stdout",
     "output_type": "stream",
     "text": [
      "Hello, my name is Harry\n",
      "I live and work in Hogwarts\n"
     ]
    }
   ],
   "source": [
    "my_introduction()"
   ]
  },
  {
   "cell_type": "code",
   "execution_count": 12,
   "id": "2892296d",
   "metadata": {},
   "outputs": [],
   "source": [
    "def introduction(name):\n",
    "    print(\"Hello, my name is\", name)\n",
    "    print(\"I live and work in Hogwarts\")"
   ]
  },
  {
   "cell_type": "code",
   "execution_count": 4,
   "id": "cb289ed9",
   "metadata": {},
   "outputs": [
    {
     "name": "stdout",
     "output_type": "stream",
     "text": [
      "Hello, my name is Anand\n",
      "I live and work in Hogwarts\n"
     ]
    }
   ],
   "source": [
    "introduction(\"Anand\")"
   ]
  },
  {
   "cell_type": "code",
   "execution_count": 5,
   "id": "4981fdfd",
   "metadata": {},
   "outputs": [
    {
     "name": "stdout",
     "output_type": "stream",
     "text": [
      "Hello, my name is Ron\n",
      "I live and work in Hogwarts\n"
     ]
    }
   ],
   "source": [
    "introduction(\"Ron\")"
   ]
  },
  {
   "cell_type": "code",
   "execution_count": 7,
   "id": "c412718e",
   "metadata": {},
   "outputs": [],
   "source": [
    "def general_introduction(name, city):\n",
    "    print(\"Hello, my name is\", name)\n",
    "    print(\"I live and work in\", city)"
   ]
  },
  {
   "cell_type": "code",
   "execution_count": 8,
   "id": "2a1b0f69",
   "metadata": {},
   "outputs": [
    {
     "name": "stdout",
     "output_type": "stream",
     "text": [
      "Hello, my name is Ben\n",
      "I live and work in Gotham\n"
     ]
    }
   ],
   "source": [
    "general_introduction(\"Ben\",\"Gotham\")"
   ]
  },
  {
   "cell_type": "code",
   "execution_count": 9,
   "id": "123eecd5",
   "metadata": {},
   "outputs": [
    {
     "name": "stdout",
     "output_type": "stream",
     "text": [
      "Hello, my name is Clark\n",
      "I live and work in Krypton\n"
     ]
    }
   ],
   "source": [
    "general_introduction(\"Clark\",\"Krypton\")"
   ]
  },
  {
   "cell_type": "code",
   "execution_count": 10,
   "id": "ee492c49",
   "metadata": {},
   "outputs": [
    {
     "name": "stdout",
     "output_type": "stream",
     "text": [
      "Hello, my name is Krypton\n",
      "I live and work in Clark\n"
     ]
    }
   ],
   "source": [
    "general_introduction(\"Krypton\",\"Clark\")"
   ]
  },
  {
   "cell_type": "code",
   "execution_count": 11,
   "id": "888b80c5",
   "metadata": {},
   "outputs": [
    {
     "ename": "TypeError",
     "evalue": "my_introduction() takes 0 positional arguments but 1 was given",
     "output_type": "error",
     "traceback": [
      "\u001b[1;31m---------------------------------------------------------------------------\u001b[0m",
      "\u001b[1;31mTypeError\u001b[0m                                 Traceback (most recent call last)",
      "Input \u001b[1;32mIn [11]\u001b[0m, in \u001b[0;36m<cell line: 1>\u001b[1;34m()\u001b[0m\n\u001b[1;32m----> 1\u001b[0m \u001b[43mmy_introduction\u001b[49m\u001b[43m(\u001b[49m\u001b[38;5;124;43m\"\u001b[39;49m\u001b[38;5;124;43manand\u001b[39;49m\u001b[38;5;124;43m\"\u001b[39;49m\u001b[43m)\u001b[49m\n",
      "\u001b[1;31mTypeError\u001b[0m: my_introduction() takes 0 positional arguments but 1 was given"
     ]
    }
   ],
   "source": [
    "my_introduction(\"anand\")"
   ]
  },
  {
   "cell_type": "code",
   "execution_count": 13,
   "id": "f6c9a148",
   "metadata": {},
   "outputs": [
    {
     "ename": "TypeError",
     "evalue": "introduction() takes 1 positional argument but 2 were given",
     "output_type": "error",
     "traceback": [
      "\u001b[1;31m---------------------------------------------------------------------------\u001b[0m",
      "\u001b[1;31mTypeError\u001b[0m                                 Traceback (most recent call last)",
      "Input \u001b[1;32mIn [13]\u001b[0m, in \u001b[0;36m<cell line: 1>\u001b[1;34m()\u001b[0m\n\u001b[1;32m----> 1\u001b[0m \u001b[43mintroduction\u001b[49m\u001b[43m(\u001b[49m\u001b[38;5;124;43m\"\u001b[39;49m\u001b[38;5;124;43manand\u001b[39;49m\u001b[38;5;124;43m\"\u001b[39;49m\u001b[43m,\u001b[49m\u001b[38;5;124;43m\"\u001b[39;49m\u001b[38;5;124;43mDelhi\u001b[39;49m\u001b[38;5;124;43m\"\u001b[39;49m\u001b[43m)\u001b[49m\n",
      "\u001b[1;31mTypeError\u001b[0m: introduction() takes 1 positional argument but 2 were given"
     ]
    }
   ],
   "source": [
    "introduction(\"anand\",\"Delhi\")"
   ]
  },
  {
   "cell_type": "code",
   "execution_count": 14,
   "id": "5c22ce77",
   "metadata": {},
   "outputs": [
    {
     "ename": "TypeError",
     "evalue": "general_introduction() missing 1 required positional argument: 'city'",
     "output_type": "error",
     "traceback": [
      "\u001b[1;31m---------------------------------------------------------------------------\u001b[0m",
      "\u001b[1;31mTypeError\u001b[0m                                 Traceback (most recent call last)",
      "Input \u001b[1;32mIn [14]\u001b[0m, in \u001b[0;36m<cell line: 1>\u001b[1;34m()\u001b[0m\n\u001b[1;32m----> 1\u001b[0m \u001b[43mgeneral_introduction\u001b[49m\u001b[43m(\u001b[49m\u001b[38;5;124;43m\"\u001b[39;49m\u001b[38;5;124;43mAnand\u001b[39;49m\u001b[38;5;124;43m\"\u001b[39;49m\u001b[43m)\u001b[49m\n",
      "\u001b[1;31mTypeError\u001b[0m: general_introduction() missing 1 required positional argument: 'city'"
     ]
    }
   ],
   "source": [
    "general_introduction(\"Anand\")"
   ]
  },
  {
   "cell_type": "code",
   "execution_count": null,
   "id": "e851bb3d",
   "metadata": {},
   "outputs": [],
   "source": []
  }
 ],
 "metadata": {
  "kernelspec": {
   "display_name": "Python 3 (ipykernel)",
   "language": "python",
   "name": "python3"
  },
  "language_info": {
   "codemirror_mode": {
    "name": "ipython",
    "version": 3
   },
   "file_extension": ".py",
   "mimetype": "text/x-python",
   "name": "python",
   "nbconvert_exporter": "python",
   "pygments_lexer": "ipython3",
   "version": "3.9.12"
  }
 },
 "nbformat": 4,
 "nbformat_minor": 5
}
