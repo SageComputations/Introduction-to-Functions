{
 "cells": [
  {
   "cell_type": "markdown",
   "id": "200e78da",
   "metadata": {},
   "source": [
    "# Q1. Describe what functions are, and how they are useful in programming?\n",
    "\n",
    "# Q2. Describe how you pass information to, and get information from functions\n",
    "\n",
    "# Q3. List the differences between positional arguments and keyword arguments"
   ]
  },
  {
   "cell_type": "code",
   "execution_count": null,
   "id": "3dc0fde5",
   "metadata": {},
   "outputs": [],
   "source": []
  },
  {
   "cell_type": "markdown",
   "id": "fc7da0cf",
   "metadata": {},
   "source": [
    "# Ans 1. Functions\n",
    "# - A piece of reusable code which may:\n",
    "# - Perform an action or a calculation\n",
    "# - Can be customized to work on different inputs\n",
    "# - Returns a result to the user\n",
    "\n",
    "# Defining a function does not execute code\n",
    "# A function once defined can be invoked\n",
    "# Invoking a function will execute the code associated with the function"
   ]
  },
  {
   "cell_type": "code",
   "execution_count": null,
   "id": "b091ed8b",
   "metadata": {},
   "outputs": [],
   "source": []
  },
  {
   "cell_type": "markdown",
   "id": "a365cf04",
   "metadata": {},
   "source": [
    "# Ans 2. Input arguments\n",
    "# - Information can be passed into a function using input arguments.\n",
    "# - Input arguments are specified at the time of function definition\n",
    "# - Input arguments are variables which can be accessed by the function to perform actions or calculations\n",
    "# - When a function is invoked, the user specifies values that are associated with the input arguments\n",
    "# - Input arguments can be any data type - primitive types or complex types\n",
    "\n",
    "\n",
    "# Ans 2 b. Return Values\n",
    "# - Information is returned from a function using the return statement\n",
    "# - The default return value is the special Python value None\n",
    "# - THe return values are typically the result of the calculation or operation\n",
    "# - Return values can be of any kind of data\n",
    "# - Basic primitive types or complex types such as lists, dictionaries or strings"
   ]
  },
  {
   "cell_type": "code",
   "execution_count": null,
   "id": "644618c5",
   "metadata": {},
   "outputs": [],
   "source": []
  },
  {
   "cell_type": "markdown",
   "id": "0623b40a",
   "metadata": {},
   "source": [
    "# Ans 3. Positional Arguments\n",
    "# - Input arguments are specified along with the function definition\n",
    "# - Values assigned to positional arguments are based on their position in the function definition\n",
    "# - Values are assigned to arguments at the time of function invocation\n",
    "# - Arguments are NOT referred to by the variable names\n",
    "# - The order of the values should match the order of the arguments\n",
    "# - Unless default values are specified, positional arguments are required arguments\n",
    "# - Positional arguments should be specified before keyword arguments"
   ]
  },
  {
   "cell_type": "code",
   "execution_count": null,
   "id": "3b8d1f05",
   "metadata": {},
   "outputs": [],
   "source": []
  },
  {
   "cell_type": "markdown",
   "id": "02ace468",
   "metadata": {},
   "source": [
    "# Keyword Arguments\n",
    "# - No change in the custom function definition\n",
    "# - Values assigned to keyword arguments by variable name during function invocation\n",
    "# - Arguments are assigned to by the variable name\n",
    "# - The order of the values need not match the original order of the arguments in the function definition.\n",
    "# - Unless default values are specified, keyword arguments are required arguments\n",
    "# - Keyword arguments should always be specified after positional arguments"
   ]
  },
  {
   "cell_type": "code",
   "execution_count": null,
   "id": "7b405c79",
   "metadata": {},
   "outputs": [],
   "source": []
  }
 ],
 "metadata": {
  "kernelspec": {
   "display_name": "Python 3 (ipykernel)",
   "language": "python",
   "name": "python3"
  },
  "language_info": {
   "codemirror_mode": {
    "name": "ipython",
    "version": 3
   },
   "file_extension": ".py",
   "mimetype": "text/x-python",
   "name": "python",
   "nbconvert_exporter": "python",
   "pygments_lexer": "ipython3",
   "version": "3.9.12"
  }
 },
 "nbformat": 4,
 "nbformat_minor": 5
}
