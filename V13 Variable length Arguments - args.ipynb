{
 "cells": [
  {
   "cell_type": "code",
   "execution_count": 1,
   "id": "305c3102",
   "metadata": {},
   "outputs": [
    {
     "name": "stdout",
     "output_type": "stream",
     "text": [
      "\n"
     ]
    }
   ],
   "source": [
    "print()"
   ]
  },
  {
   "cell_type": "code",
   "execution_count": 2,
   "id": "7a5ea0c0",
   "metadata": {},
   "outputs": [
    {
     "name": "stdout",
     "output_type": "stream",
     "text": [
      "Bob\n"
     ]
    }
   ],
   "source": [
    "print(\"Bob\")"
   ]
  },
  {
   "cell_type": "code",
   "execution_count": 3,
   "id": "679d8362",
   "metadata": {},
   "outputs": [
    {
     "name": "stdout",
     "output_type": "stream",
     "text": [
      "Bill Buck\n"
     ]
    }
   ],
   "source": [
    "print(\"Bill\",\"Buck\")"
   ]
  },
  {
   "cell_type": "code",
   "execution_count": 4,
   "id": "bf4462e1",
   "metadata": {},
   "outputs": [
    {
     "name": "stdout",
     "output_type": "stream",
     "text": [
      "Jack Jill Bill\n"
     ]
    }
   ],
   "source": [
    "print(\"Jack\",\"Jill\",\"Bill\")"
   ]
  },
  {
   "cell_type": "code",
   "execution_count": 1,
   "id": "4503c819",
   "metadata": {},
   "outputs": [],
   "source": [
    "def print_fn(string_1):\n",
    "    \n",
    "    print(string_1)"
   ]
  },
  {
   "cell_type": "code",
   "execution_count": 2,
   "id": "b5ba6a67",
   "metadata": {},
   "outputs": [
    {
     "ename": "TypeError",
     "evalue": "print_fn() missing 1 required positional argument: 'string_1'",
     "output_type": "error",
     "traceback": [
      "\u001b[1;31m---------------------------------------------------------------------------\u001b[0m",
      "\u001b[1;31mTypeError\u001b[0m                                 Traceback (most recent call last)",
      "Input \u001b[1;32mIn [2]\u001b[0m, in \u001b[0;36m<cell line: 1>\u001b[1;34m()\u001b[0m\n\u001b[1;32m----> 1\u001b[0m \u001b[43mprint_fn\u001b[49m\u001b[43m(\u001b[49m\u001b[43m)\u001b[49m\n",
      "\u001b[1;31mTypeError\u001b[0m: print_fn() missing 1 required positional argument: 'string_1'"
     ]
    }
   ],
   "source": [
    "print_fn()"
   ]
  },
  {
   "cell_type": "code",
   "execution_count": 4,
   "id": "0a8ad6ce",
   "metadata": {},
   "outputs": [],
   "source": [
    "def print_fn(string_1 = \"\\n\"):\n",
    "    \n",
    "    print(string_1)"
   ]
  },
  {
   "cell_type": "code",
   "execution_count": 5,
   "id": "b6302c7e",
   "metadata": {},
   "outputs": [
    {
     "name": "stdout",
     "output_type": "stream",
     "text": [
      "\n",
      "\n"
     ]
    }
   ],
   "source": [
    "print_fn()"
   ]
  },
  {
   "cell_type": "code",
   "execution_count": 6,
   "id": "5de7b9f9",
   "metadata": {},
   "outputs": [
    {
     "name": "stdout",
     "output_type": "stream",
     "text": [
      "Jack\n"
     ]
    }
   ],
   "source": [
    "print_fn(\"Jack\")"
   ]
  },
  {
   "cell_type": "code",
   "execution_count": 7,
   "id": "30e46246",
   "metadata": {},
   "outputs": [
    {
     "ename": "TypeError",
     "evalue": "print_fn() takes from 0 to 1 positional arguments but 2 were given",
     "output_type": "error",
     "traceback": [
      "\u001b[1;31m---------------------------------------------------------------------------\u001b[0m",
      "\u001b[1;31mTypeError\u001b[0m                                 Traceback (most recent call last)",
      "Input \u001b[1;32mIn [7]\u001b[0m, in \u001b[0;36m<cell line: 1>\u001b[1;34m()\u001b[0m\n\u001b[1;32m----> 1\u001b[0m \u001b[43mprint_fn\u001b[49m\u001b[43m(\u001b[49m\u001b[38;5;124;43m\"\u001b[39;49m\u001b[38;5;124;43mJack\u001b[39;49m\u001b[38;5;124;43m\"\u001b[39;49m\u001b[43m,\u001b[49m\u001b[38;5;124;43m\"\u001b[39;49m\u001b[38;5;124;43mJill\u001b[39;49m\u001b[38;5;124;43m\"\u001b[39;49m\u001b[43m)\u001b[49m\n",
      "\u001b[1;31mTypeError\u001b[0m: print_fn() takes from 0 to 1 positional arguments but 2 were given"
     ]
    }
   ],
   "source": [
    "print_fn(\"Jack\",\"Jill\")"
   ]
  },
  {
   "cell_type": "code",
   "execution_count": 8,
   "id": "0c38c860",
   "metadata": {},
   "outputs": [],
   "source": [
    "def print_fn(string_1 = \"\\n\", string_2 = \"\"):\n",
    "    \n",
    "    print(string_1, string_2)"
   ]
  },
  {
   "cell_type": "code",
   "execution_count": 9,
   "id": "cde03f52",
   "metadata": {},
   "outputs": [
    {
     "name": "stdout",
     "output_type": "stream",
     "text": [
      "\n",
      " \n"
     ]
    }
   ],
   "source": [
    "print_fn()"
   ]
  },
  {
   "cell_type": "code",
   "execution_count": 10,
   "id": "f588a997",
   "metadata": {},
   "outputs": [
    {
     "name": "stdout",
     "output_type": "stream",
     "text": [
      "Jack \n"
     ]
    }
   ],
   "source": [
    "print_fn(\"Jack\")"
   ]
  },
  {
   "cell_type": "code",
   "execution_count": 11,
   "id": "6c74c899",
   "metadata": {},
   "outputs": [
    {
     "name": "stdout",
     "output_type": "stream",
     "text": [
      "Jack Jill\n"
     ]
    }
   ],
   "source": [
    "print_fn(\"Jack\",\"Jill\")"
   ]
  },
  {
   "cell_type": "code",
   "execution_count": 12,
   "id": "14f4f601",
   "metadata": {},
   "outputs": [
    {
     "ename": "TypeError",
     "evalue": "print_fn() takes from 0 to 2 positional arguments but 3 were given",
     "output_type": "error",
     "traceback": [
      "\u001b[1;31m---------------------------------------------------------------------------\u001b[0m",
      "\u001b[1;31mTypeError\u001b[0m                                 Traceback (most recent call last)",
      "Input \u001b[1;32mIn [12]\u001b[0m, in \u001b[0;36m<cell line: 1>\u001b[1;34m()\u001b[0m\n\u001b[1;32m----> 1\u001b[0m \u001b[43mprint_fn\u001b[49m\u001b[43m(\u001b[49m\u001b[38;5;124;43m\"\u001b[39;49m\u001b[38;5;124;43mJack\u001b[39;49m\u001b[38;5;124;43m\"\u001b[39;49m\u001b[43m,\u001b[49m\u001b[38;5;124;43m\"\u001b[39;49m\u001b[38;5;124;43mJill\u001b[39;49m\u001b[38;5;124;43m\"\u001b[39;49m\u001b[43m,\u001b[49m\u001b[38;5;124;43m\"\u001b[39;49m\u001b[38;5;124;43mBill\u001b[39;49m\u001b[38;5;124;43m\"\u001b[39;49m\u001b[43m)\u001b[49m\n",
      "\u001b[1;31mTypeError\u001b[0m: print_fn() takes from 0 to 2 positional arguments but 3 were given"
     ]
    }
   ],
   "source": [
    "print_fn(\"Jack\",\"Jill\",\"Bill\")"
   ]
  },
  {
   "cell_type": "code",
   "execution_count": 13,
   "id": "44e9e76a",
   "metadata": {},
   "outputs": [],
   "source": [
    "def print_fn(*args):\n",
    "    \n",
    "    args_type = type(args)\n",
    "    print(args_type)\n",
    "    \n",
    "    print(args)"
   ]
  },
  {
   "cell_type": "markdown",
   "id": "dc8c0cf8",
   "metadata": {},
   "source": [
    "# *args - indicates that the function can be invoked with any number of arguments"
   ]
  },
  {
   "cell_type": "code",
   "execution_count": 15,
   "id": "d0dedca0",
   "metadata": {},
   "outputs": [
    {
     "name": "stdout",
     "output_type": "stream",
     "text": [
      "<class 'tuple'>\n",
      "()\n"
     ]
    }
   ],
   "source": [
    "print_fn()"
   ]
  },
  {
   "cell_type": "markdown",
   "id": "c2708b76",
   "metadata": {},
   "source": [
    "# *args - The function receives the variable number of arguments as a tuple"
   ]
  },
  {
   "cell_type": "code",
   "execution_count": 16,
   "id": "c7e5b0f5",
   "metadata": {},
   "outputs": [
    {
     "name": "stdout",
     "output_type": "stream",
     "text": [
      "<class 'tuple'>\n",
      "('Jack',)\n"
     ]
    }
   ],
   "source": [
    "print_fn(\"Jack\")"
   ]
  },
  {
   "cell_type": "code",
   "execution_count": 17,
   "id": "08501f8d",
   "metadata": {},
   "outputs": [
    {
     "name": "stdout",
     "output_type": "stream",
     "text": [
      "<class 'tuple'>\n",
      "('Jack', 'Jill')\n"
     ]
    }
   ],
   "source": [
    "print_fn(\"Jack\",\"Jill\")"
   ]
  },
  {
   "cell_type": "code",
   "execution_count": 18,
   "id": "86653e05",
   "metadata": {},
   "outputs": [
    {
     "name": "stdout",
     "output_type": "stream",
     "text": [
      "<class 'tuple'>\n",
      "('Jack', 'Jill', 'Bill')\n"
     ]
    }
   ],
   "source": [
    "print_fn(\"Jack\",\"Jill\",\"Bill\")"
   ]
  },
  {
   "cell_type": "code",
   "execution_count": 19,
   "id": "e911d4a9",
   "metadata": {},
   "outputs": [
    {
     "name": "stdout",
     "output_type": "stream",
     "text": [
      "<class 'tuple'>\n",
      "(['jack', 'jill', 'Bill', 'Steve', 'Jim'],)\n"
     ]
    }
   ],
   "source": [
    "names_list = [\"jack\",\"jill\",'Bill',\"Steve\",\"Jim\"]\n",
    "\n",
    "print_fn(names_list)"
   ]
  },
  {
   "cell_type": "code",
   "execution_count": 20,
   "id": "70163206",
   "metadata": {},
   "outputs": [],
   "source": [
    "#The list is the first field in the tuple"
   ]
  },
  {
   "cell_type": "code",
   "execution_count": 21,
   "id": "2aba3304",
   "metadata": {},
   "outputs": [
    {
     "name": "stdout",
     "output_type": "stream",
     "text": [
      "jack jill Bill Steve Jim\n"
     ]
    }
   ],
   "source": [
    "print(*names_list)"
   ]
  },
  {
   "cell_type": "markdown",
   "id": "6c905f26",
   "metadata": {},
   "source": [
    "# *names_list - First unpacks the individual elements in the names_list"
   ]
  },
  {
   "cell_type": "code",
   "execution_count": null,
   "id": "db0a9d07",
   "metadata": {},
   "outputs": [],
   "source": []
  }
 ],
 "metadata": {
  "kernelspec": {
   "display_name": "Python 3 (ipykernel)",
   "language": "python",
   "name": "python3"
  },
  "language_info": {
   "codemirror_mode": {
    "name": "ipython",
    "version": 3
   },
   "file_extension": ".py",
   "mimetype": "text/x-python",
   "name": "python",
   "nbconvert_exporter": "python",
   "pygments_lexer": "ipython3",
   "version": "3.9.12"
  }
 },
 "nbformat": 4,
 "nbformat_minor": 5
}
