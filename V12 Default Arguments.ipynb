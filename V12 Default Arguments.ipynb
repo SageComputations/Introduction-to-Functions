{
 "cells": [
  {
   "cell_type": "code",
   "execution_count": 1,
   "id": "eaf7564d",
   "metadata": {},
   "outputs": [],
   "source": [
    "def print_student_details(name,school,\n",
    "                         math,physics,chemistry,biology,\n",
    "                         enrolled):\n",
    "    \n",
    "    total = math + physics + chemistry + biology\n",
    "    \n",
    "    print(\"Name: \", name)\n",
    "    print(\"School: \", school, \"Enrolled: \", enrolled)\n",
    "    print(\"Score: \",total)"
   ]
  },
  {
   "cell_type": "code",
   "execution_count": 2,
   "id": "2e4f17b3",
   "metadata": {},
   "outputs": [
    {
     "name": "stdout",
     "output_type": "stream",
     "text": [
      "Name:  Alice\n",
      "School:  Columbia Enrolled:  True\n",
      "Score:  374\n"
     ]
    }
   ],
   "source": [
    "print_student_details(\"Alice\",\"Columbia\",\n",
    "                     math = 100, physics = 97, chemistry = 89, biology = 88,\n",
    "                     enrolled = True)"
   ]
  },
  {
   "cell_type": "code",
   "execution_count": 3,
   "id": "9f746940",
   "metadata": {},
   "outputs": [
    {
     "ename": "TypeError",
     "evalue": "print_student_details() missing 1 required positional argument: 'enrolled'",
     "output_type": "error",
     "traceback": [
      "\u001b[1;31m---------------------------------------------------------------------------\u001b[0m",
      "\u001b[1;31mTypeError\u001b[0m                                 Traceback (most recent call last)",
      "Input \u001b[1;32mIn [3]\u001b[0m, in \u001b[0;36m<cell line: 1>\u001b[1;34m()\u001b[0m\n\u001b[1;32m----> 1\u001b[0m \u001b[43mprint_student_details\u001b[49m\u001b[43m(\u001b[49m\u001b[38;5;124;43m\"\u001b[39;49m\u001b[38;5;124;43mAlice\u001b[39;49m\u001b[38;5;124;43m\"\u001b[39;49m\u001b[43m,\u001b[49m\u001b[38;5;124;43m\"\u001b[39;49m\u001b[38;5;124;43mColumbia\u001b[39;49m\u001b[38;5;124;43m\"\u001b[39;49m\u001b[43m,\u001b[49m\n\u001b[0;32m      2\u001b[0m \u001b[43m                     \u001b[49m\u001b[43mmath\u001b[49m\u001b[43m \u001b[49m\u001b[38;5;241;43m=\u001b[39;49m\u001b[43m \u001b[49m\u001b[38;5;241;43m100\u001b[39;49m\u001b[43m,\u001b[49m\u001b[43m \u001b[49m\u001b[43mphysics\u001b[49m\u001b[43m \u001b[49m\u001b[38;5;241;43m=\u001b[39;49m\u001b[43m \u001b[49m\u001b[38;5;241;43m97\u001b[39;49m\u001b[43m,\u001b[49m\u001b[43m \u001b[49m\u001b[43mchemistry\u001b[49m\u001b[43m \u001b[49m\u001b[38;5;241;43m=\u001b[39;49m\u001b[43m \u001b[49m\u001b[38;5;241;43m89\u001b[39;49m\u001b[43m,\u001b[49m\u001b[43m \u001b[49m\u001b[43mbiology\u001b[49m\u001b[43m \u001b[49m\u001b[38;5;241;43m=\u001b[39;49m\u001b[43m \u001b[49m\u001b[38;5;241;43m88\u001b[39;49m\u001b[43m)\u001b[49m\n",
      "\u001b[1;31mTypeError\u001b[0m: print_student_details() missing 1 required positional argument: 'enrolled'"
     ]
    }
   ],
   "source": [
    "print_student_details(\"Alice\",\"Columbia\",\n",
    "                     math = 100, physics = 97, chemistry = 89, biology = 88)"
   ]
  },
  {
   "cell_type": "code",
   "execution_count": 4,
   "id": "46a9530f",
   "metadata": {},
   "outputs": [],
   "source": [
    "def print_student_details(name,school,\n",
    "                         math,physics,chemistry,biology,\n",
    "                         enrolled=False):\n",
    "    \n",
    "    total = math + physics + chemistry + biology\n",
    "    \n",
    "    print(\"Name: \", name)\n",
    "    print(\"School: \", school, \"Enrolled: \", enrolled)\n",
    "    print(\"Score: \",total)"
   ]
  },
  {
   "cell_type": "code",
   "execution_count": 5,
   "id": "e5573d09",
   "metadata": {},
   "outputs": [
    {
     "name": "stdout",
     "output_type": "stream",
     "text": [
      "Name:  Alice\n",
      "School:  Columbia Enrolled:  True\n",
      "Score:  374\n"
     ]
    }
   ],
   "source": [
    "print_student_details(\"Alice\",\"Columbia\",\n",
    "                     math = 100, physics = 97, chemistry = 89, biology = 88,\n",
    "                     enrolled = True)"
   ]
  },
  {
   "cell_type": "code",
   "execution_count": 6,
   "id": "bd05d8ec",
   "metadata": {},
   "outputs": [
    {
     "name": "stdout",
     "output_type": "stream",
     "text": [
      "Name:  Alice\n",
      "School:  Columbia Enrolled:  False\n",
      "Score:  374\n"
     ]
    }
   ],
   "source": [
    "print_student_details(\"Alice\",\"Columbia\",\n",
    "                     math = 100, physics = 97, chemistry = 89, biology = 88,\n",
    "                     enrolled = False)"
   ]
  },
  {
   "cell_type": "code",
   "execution_count": 7,
   "id": "a4ab6df0",
   "metadata": {},
   "outputs": [
    {
     "name": "stdout",
     "output_type": "stream",
     "text": [
      "Name:  Alice\n",
      "School:  Columbia Enrolled:  False\n",
      "Score:  374\n"
     ]
    }
   ],
   "source": [
    "print_student_details(\"Alice\",\"Columbia\",\n",
    "                     math = 100, physics = 97, chemistry = 89, biology = 88)"
   ]
  },
  {
   "cell_type": "markdown",
   "id": "1fcd63da",
   "metadata": {},
   "source": [
    "# When you have specified a default arg in the function definition you don't need to specify it during the function invocation if you need the default one"
   ]
  },
  {
   "cell_type": "code",
   "execution_count": 8,
   "id": "4fb1d2d2",
   "metadata": {},
   "outputs": [],
   "source": [
    "def print_student_details(name,school,\n",
    "                         math,physics,chemistry,biology = 50,\n",
    "                         enrolled=False):\n",
    "    \n",
    "    total = math + physics + chemistry + biology\n",
    "    \n",
    "    print(\"Name: \", name)\n",
    "    print(\"School: \", school, \"Enrolled: \", enrolled)\n",
    "    print(\"Biology: \", biology)\n",
    "    print(\"Score: \",total)"
   ]
  },
  {
   "cell_type": "code",
   "execution_count": 9,
   "id": "4f4fa74a",
   "metadata": {},
   "outputs": [
    {
     "name": "stdout",
     "output_type": "stream",
     "text": [
      "Name:  Alice\n",
      "School:  Columbia Enrolled:  False\n",
      "Biology:  88\n",
      "Score:  374\n"
     ]
    }
   ],
   "source": [
    "print_student_details(\"Alice\",\"Columbia\",\n",
    "                     math = 100, physics = 97, chemistry = 89, biology = 88)"
   ]
  },
  {
   "cell_type": "code",
   "execution_count": 10,
   "id": "16d759d7",
   "metadata": {},
   "outputs": [
    {
     "name": "stdout",
     "output_type": "stream",
     "text": [
      "Name:  Alice\n",
      "School:  Columbia Enrolled:  False\n",
      "Biology:  50\n",
      "Score:  336\n"
     ]
    }
   ],
   "source": [
    "print_student_details(\"Alice\",\"Columbia\",\n",
    "                     math = 100, physics = 97, chemistry = 89)"
   ]
  },
  {
   "cell_type": "code",
   "execution_count": 11,
   "id": "fbc6795d",
   "metadata": {},
   "outputs": [
    {
     "ename": "TypeError",
     "evalue": "print_student_details() missing 1 required positional argument: 'chemistry'",
     "output_type": "error",
     "traceback": [
      "\u001b[1;31m---------------------------------------------------------------------------\u001b[0m",
      "\u001b[1;31mTypeError\u001b[0m                                 Traceback (most recent call last)",
      "Input \u001b[1;32mIn [11]\u001b[0m, in \u001b[0;36m<cell line: 1>\u001b[1;34m()\u001b[0m\n\u001b[1;32m----> 1\u001b[0m \u001b[43mprint_student_details\u001b[49m\u001b[43m(\u001b[49m\u001b[38;5;124;43m\"\u001b[39;49m\u001b[38;5;124;43mAlice\u001b[39;49m\u001b[38;5;124;43m\"\u001b[39;49m\u001b[43m,\u001b[49m\u001b[38;5;124;43m\"\u001b[39;49m\u001b[38;5;124;43mColumbia\u001b[39;49m\u001b[38;5;124;43m\"\u001b[39;49m\u001b[43m,\u001b[49m\n\u001b[0;32m      2\u001b[0m \u001b[43m                     \u001b[49m\u001b[43mmath\u001b[49m\u001b[43m \u001b[49m\u001b[38;5;241;43m=\u001b[39;49m\u001b[43m \u001b[49m\u001b[38;5;241;43m100\u001b[39;49m\u001b[43m,\u001b[49m\u001b[43m \u001b[49m\u001b[43mphysics\u001b[49m\u001b[43m \u001b[49m\u001b[38;5;241;43m=\u001b[39;49m\u001b[43m \u001b[49m\u001b[38;5;241;43m99\u001b[39;49m\u001b[43m)\u001b[49m\n",
      "\u001b[1;31mTypeError\u001b[0m: print_student_details() missing 1 required positional argument: 'chemistry'"
     ]
    }
   ],
   "source": [
    "print_student_details(\"Alice\",\"Columbia\",\n",
    "                     math = 100, physics = 99)"
   ]
  },
  {
   "cell_type": "code",
   "execution_count": 12,
   "id": "89e7f9e5",
   "metadata": {},
   "outputs": [],
   "source": [
    "def print_student_details(name,school,\n",
    "                         math,physics,chemistry = 50,biology = 50,\n",
    "                         enrolled=False):\n",
    "    \n",
    "    total = math + physics + chemistry + biology\n",
    "    \n",
    "    print(\"Name: \", name)\n",
    "    print(\"School: \", school, \"Enrolled: \", enrolled)\n",
    "    print(\"Chemistry: \", chemistry)\n",
    "    print(\"Biology: \", biology)\n",
    "    print(\"Score: \",total)"
   ]
  },
  {
   "cell_type": "code",
   "execution_count": 13,
   "id": "356f8e23",
   "metadata": {},
   "outputs": [
    {
     "name": "stdout",
     "output_type": "stream",
     "text": [
      "Name:  Alice\n",
      "School:  Columbia Enrolled:  False\n",
      "Chemistry:  89\n",
      "Biology:  50\n",
      "Score:  336\n"
     ]
    }
   ],
   "source": [
    "print_student_details(\"Alice\",\"Columbia\",\n",
    "                     math = 100, physics = 97, chemistry = 89)"
   ]
  },
  {
   "cell_type": "code",
   "execution_count": 14,
   "id": "c9cebd85",
   "metadata": {},
   "outputs": [
    {
     "name": "stdout",
     "output_type": "stream",
     "text": [
      "Name:  Alice\n",
      "School:  Columbia Enrolled:  False\n",
      "Chemistry:  50\n",
      "Biology:  50\n",
      "Score:  299\n"
     ]
    }
   ],
   "source": [
    "print_student_details(\"Alice\",\"Columbia\",\n",
    "                     math = 100, physics = 99)"
   ]
  },
  {
   "cell_type": "code",
   "execution_count": 15,
   "id": "981cb4ee",
   "metadata": {},
   "outputs": [
    {
     "ename": "SyntaxError",
     "evalue": "non-default argument follows default argument (1759533300.py, line 2)",
     "output_type": "error",
     "traceback": [
      "\u001b[1;36m  Input \u001b[1;32mIn [15]\u001b[1;36m\u001b[0m\n\u001b[1;33m    math= 50,physics,chemistry = 50,biology = 50,\u001b[0m\n\u001b[1;37m                     ^\u001b[0m\n\u001b[1;31mSyntaxError\u001b[0m\u001b[1;31m:\u001b[0m non-default argument follows default argument\n"
     ]
    }
   ],
   "source": [
    "def print_student_details(name,school,\n",
    "                         math= 50,physics,chemistry = 50,biology = 50,\n",
    "                         enrolled=False):\n",
    "    \n",
    "    total = math + physics + chemistry + biology\n",
    "    \n",
    "    print(\"Name: \", name)\n",
    "    print(\"School: \", school, \"Enrolled: \", enrolled)\n",
    "    print(\"Chemistry: \", chemistry)\n",
    "    print(\"Biology: \", biology)\n",
    "    print(\"Score: \",total)"
   ]
  },
  {
   "cell_type": "markdown",
   "id": "f6e5aace",
   "metadata": {},
   "source": [
    "# Default args need to be specified at the very end of the argument list which is passed into your function"
   ]
  },
  {
   "cell_type": "code",
   "execution_count": 16,
   "id": "7927052e",
   "metadata": {},
   "outputs": [
    {
     "ename": "SyntaxError",
     "evalue": "non-default argument follows default argument (2601883037.py, line 2)",
     "output_type": "error",
     "traceback": [
      "\u001b[1;36m  Input \u001b[1;32mIn [16]\u001b[1;36m\u001b[0m\n\u001b[1;33m    math,physics,chemistry = 50,biology = 50,\u001b[0m\n\u001b[1;37m         ^\u001b[0m\n\u001b[1;31mSyntaxError\u001b[0m\u001b[1;31m:\u001b[0m non-default argument follows default argument\n"
     ]
    }
   ],
   "source": [
    "def print_student_details(name,school = \"Harvard\",\n",
    "                         math,physics,chemistry = 50,biology = 50,\n",
    "                         enrolled=False):\n",
    "    \n",
    "    total = math + physics + chemistry + biology\n",
    "    \n",
    "    print(\"Name: \", name)\n",
    "    print(\"School: \", school, \"Enrolled: \", enrolled)\n",
    "    print(\"Chemistry: \", chemistry)\n",
    "    print(\"Biology: \", biology)\n",
    "    print(\"Score: \",total)"
   ]
  },
  {
   "cell_type": "code",
   "execution_count": 17,
   "id": "fef35103",
   "metadata": {},
   "outputs": [
    {
     "ename": "SyntaxError",
     "evalue": "non-default argument follows default argument (3504082131.py, line 2)",
     "output_type": "error",
     "traceback": [
      "\u001b[1;36m  Input \u001b[1;32mIn [17]\u001b[1;36m\u001b[0m\n\u001b[1;33m    math,physics,chemistry = 50,biology = 50,\u001b[0m\n\u001b[1;37m    ^\u001b[0m\n\u001b[1;31mSyntaxError\u001b[0m\u001b[1;31m:\u001b[0m non-default argument follows default argument\n"
     ]
    }
   ],
   "source": [
    "def print_student_details(name = \"Anand\",school,\n",
    "                         math,physics,chemistry = 50,biology = 50,\n",
    "                         enrolled=False):\n",
    "    \n",
    "    total = math + physics + chemistry + biology\n",
    "    \n",
    "    print(\"Name: \", name)\n",
    "    print(\"School: \", school, \"Enrolled: \", enrolled)\n",
    "    print(\"Chemistry: \", chemistry)\n",
    "    print(\"Biology: \", biology)\n",
    "    print(\"Score: \",total)"
   ]
  },
  {
   "cell_type": "code",
   "execution_count": 18,
   "id": "cea92324",
   "metadata": {},
   "outputs": [],
   "source": [
    "def print_student_details(name = \"Anand\",school = \"IIM\",\n",
    "                         math = 50 ,physics = 89,chemistry = 50,biology = 50,\n",
    "                         enrolled=False):\n",
    "    \n",
    "    total = math + physics + chemistry + biology\n",
    "    \n",
    "    print(\"Name: \", name)\n",
    "    print(\"School: \", school, \"Enrolled: \", enrolled)\n",
    "    print(\"Chemistry: \", chemistry)\n",
    "    print(\"Biology: \", biology)\n",
    "    print(\"Score: \",total)"
   ]
  },
  {
   "cell_type": "code",
   "execution_count": 19,
   "id": "2a7efc59",
   "metadata": {},
   "outputs": [
    {
     "name": "stdout",
     "output_type": "stream",
     "text": [
      "Name:  Anand\n",
      "School:  IIM Enrolled:  False\n",
      "Chemistry:  50\n",
      "Biology:  50\n",
      "Score:  239\n"
     ]
    }
   ],
   "source": [
    "print_student_details()"
   ]
  },
  {
   "cell_type": "code",
   "execution_count": 20,
   "id": "0051acdb",
   "metadata": {},
   "outputs": [
    {
     "name": "stdout",
     "output_type": "stream",
     "text": [
      "Name:  Alex\n",
      "School:  IIM Enrolled:  False\n",
      "Chemistry:  50\n",
      "Biology:  50\n",
      "Score:  239\n"
     ]
    }
   ],
   "source": [
    "print_student_details(name = \"Alex\")"
   ]
  },
  {
   "cell_type": "code",
   "execution_count": 22,
   "id": "220bd347",
   "metadata": {},
   "outputs": [
    {
     "name": "stdout",
     "output_type": "stream",
     "text": [
      "Name:  Alex\n",
      "School:  IIT Enrolled:  True\n",
      "Chemistry:  50\n",
      "Biology:  58\n",
      "Score:  286\n"
     ]
    }
   ],
   "source": [
    "print_student_details(\"Alex\",\"IIT\",89, biology = 58, enrolled = True)"
   ]
  },
  {
   "cell_type": "code",
   "execution_count": null,
   "id": "8a6d4094",
   "metadata": {},
   "outputs": [],
   "source": []
  }
 ],
 "metadata": {
  "kernelspec": {
   "display_name": "Python 3 (ipykernel)",
   "language": "python",
   "name": "python3"
  },
  "language_info": {
   "codemirror_mode": {
    "name": "ipython",
    "version": 3
   },
   "file_extension": ".py",
   "mimetype": "text/x-python",
   "name": "python",
   "nbconvert_exporter": "python",
   "pygments_lexer": "ipython3",
   "version": "3.9.12"
  }
 },
 "nbformat": 4,
 "nbformat_minor": 5
}
