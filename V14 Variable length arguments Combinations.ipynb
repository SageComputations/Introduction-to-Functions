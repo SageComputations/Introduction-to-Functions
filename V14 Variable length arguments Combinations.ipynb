{
 "cells": [
  {
   "cell_type": "code",
   "execution_count": 1,
   "id": "4964e986",
   "metadata": {},
   "outputs": [],
   "source": [
    "def students_in_college(college,city,*students):\n",
    "    \n",
    "    print(\"College: \", college)\n",
    "    print(\"City: \", city)\n",
    "    print(\"Students: \", students)"
   ]
  },
  {
   "cell_type": "code",
   "execution_count": 2,
   "id": "ce3f77d1",
   "metadata": {},
   "outputs": [
    {
     "ename": "TypeError",
     "evalue": "students_in_college() missing 2 required positional arguments: 'college' and 'city'",
     "output_type": "error",
     "traceback": [
      "\u001b[1;31m---------------------------------------------------------------------------\u001b[0m",
      "\u001b[1;31mTypeError\u001b[0m                                 Traceback (most recent call last)",
      "Input \u001b[1;32mIn [2]\u001b[0m, in \u001b[0;36m<cell line: 1>\u001b[1;34m()\u001b[0m\n\u001b[1;32m----> 1\u001b[0m \u001b[43mstudents_in_college\u001b[49m\u001b[43m(\u001b[49m\u001b[43m)\u001b[49m\n",
      "\u001b[1;31mTypeError\u001b[0m: students_in_college() missing 2 required positional arguments: 'college' and 'city'"
     ]
    }
   ],
   "source": [
    "students_in_college()"
   ]
  },
  {
   "cell_type": "code",
   "execution_count": 3,
   "id": "9632f4e7",
   "metadata": {},
   "outputs": [
    {
     "ename": "TypeError",
     "evalue": "students_in_college() missing 1 required positional argument: 'city'",
     "output_type": "error",
     "traceback": [
      "\u001b[1;31m---------------------------------------------------------------------------\u001b[0m",
      "\u001b[1;31mTypeError\u001b[0m                                 Traceback (most recent call last)",
      "Input \u001b[1;32mIn [3]\u001b[0m, in \u001b[0;36m<cell line: 1>\u001b[1;34m()\u001b[0m\n\u001b[1;32m----> 1\u001b[0m \u001b[43mstudents_in_college\u001b[49m\u001b[43m(\u001b[49m\u001b[38;5;124;43m\"\u001b[39;49m\u001b[38;5;124;43mIIM\u001b[39;49m\u001b[38;5;124;43m\"\u001b[39;49m\u001b[43m)\u001b[49m\n",
      "\u001b[1;31mTypeError\u001b[0m: students_in_college() missing 1 required positional argument: 'city'"
     ]
    }
   ],
   "source": [
    "students_in_college(\"IIM\")"
   ]
  },
  {
   "cell_type": "code",
   "execution_count": 4,
   "id": "6c35b5f7",
   "metadata": {},
   "outputs": [
    {
     "name": "stdout",
     "output_type": "stream",
     "text": [
      "College:  IIM\n",
      "City:  Ahemdabad\n",
      "Students:  ()\n"
     ]
    }
   ],
   "source": [
    "students_in_college(\"IIM\",\"Ahemdabad\")"
   ]
  },
  {
   "cell_type": "code",
   "execution_count": 5,
   "id": "1fc6046a",
   "metadata": {},
   "outputs": [
    {
     "name": "stdout",
     "output_type": "stream",
     "text": [
      "College:  IIM\n",
      "City:  Ahemdabad\n",
      "Students:  ('Akash',)\n"
     ]
    }
   ],
   "source": [
    "students_in_college(\"IIM\",\"Ahemdabad\",\"Akash\")"
   ]
  },
  {
   "cell_type": "code",
   "execution_count": 6,
   "id": "5222f30a",
   "metadata": {},
   "outputs": [
    {
     "name": "stdout",
     "output_type": "stream",
     "text": [
      "College:  IIM\n",
      "City:  Ahemdabad\n",
      "Students:  ('Akash', 'Amit')\n"
     ]
    }
   ],
   "source": [
    "students_in_college(\"IIM\",\"Ahemdabad\",\"Akash\",\"Amit\")"
   ]
  },
  {
   "cell_type": "code",
   "execution_count": 7,
   "id": "b0cce72a",
   "metadata": {},
   "outputs": [
    {
     "name": "stdout",
     "output_type": "stream",
     "text": [
      "College:  IIM\n",
      "City:  Ahemdabad\n",
      "Students:  ('Akash', 'Amit', 'Kapil')\n"
     ]
    }
   ],
   "source": [
    "students_in_college(\"IIM\",\"Ahemdabad\",\"Akash\",\"Amit\",\"Kapil\")"
   ]
  },
  {
   "cell_type": "code",
   "execution_count": 8,
   "id": "50f8fc99",
   "metadata": {},
   "outputs": [
    {
     "ename": "SyntaxError",
     "evalue": "positional argument follows keyword argument (3939727558.py, line 1)",
     "output_type": "error",
     "traceback": [
      "\u001b[1;36m  Input \u001b[1;32mIn [8]\u001b[1;36m\u001b[0m\n\u001b[1;33m    students_in_college(City=\"New York\", College = \"Columbia\",\"Denver\",\"John\")\u001b[0m\n\u001b[1;37m                                                                             ^\u001b[0m\n\u001b[1;31mSyntaxError\u001b[0m\u001b[1;31m:\u001b[0m positional argument follows keyword argument\n"
     ]
    }
   ],
   "source": [
    "students_in_college(City=\"New York\", College = \"Columbia\",\"Denver\",\"John\")"
   ]
  },
  {
   "cell_type": "code",
   "execution_count": 9,
   "id": "f9da74d8",
   "metadata": {},
   "outputs": [],
   "source": [
    "def students_in_college(*students, college, city):\n",
    "    \n",
    "    print(\"College: \", college)\n",
    "    print(\"City: \", city)\n",
    "    print(\"Students: \", students)"
   ]
  },
  {
   "cell_type": "code",
   "execution_count": 10,
   "id": "2f6ff9ad",
   "metadata": {},
   "outputs": [
    {
     "ename": "TypeError",
     "evalue": "students_in_college() missing 2 required keyword-only arguments: 'college' and 'city'",
     "output_type": "error",
     "traceback": [
      "\u001b[1;31m---------------------------------------------------------------------------\u001b[0m",
      "\u001b[1;31mTypeError\u001b[0m                                 Traceback (most recent call last)",
      "Input \u001b[1;32mIn [10]\u001b[0m, in \u001b[0;36m<cell line: 1>\u001b[1;34m()\u001b[0m\n\u001b[1;32m----> 1\u001b[0m \u001b[43mstudents_in_college\u001b[49m\u001b[43m(\u001b[49m\u001b[38;5;124;43m\"\u001b[39;49m\u001b[38;5;124;43mIIM\u001b[39;49m\u001b[38;5;124;43m\"\u001b[39;49m\u001b[43m,\u001b[49m\u001b[38;5;124;43m\"\u001b[39;49m\u001b[38;5;124;43mAhemdabad\u001b[39;49m\u001b[38;5;124;43m\"\u001b[39;49m\u001b[43m,\u001b[49m\u001b[38;5;124;43m\"\u001b[39;49m\u001b[38;5;124;43mAkash\u001b[39;49m\u001b[38;5;124;43m\"\u001b[39;49m\u001b[43m)\u001b[49m\n",
      "\u001b[1;31mTypeError\u001b[0m: students_in_college() missing 2 required keyword-only arguments: 'college' and 'city'"
     ]
    }
   ],
   "source": [
    "students_in_college(\"IIM\",\"Ahemdabad\",\"Akash\")"
   ]
  },
  {
   "cell_type": "code",
   "execution_count": 11,
   "id": "1bceda60",
   "metadata": {},
   "outputs": [
    {
     "name": "stdout",
     "output_type": "stream",
     "text": [
      "College:  IIM\n",
      "City:  Ahemdabad\n",
      "Students:  ('Akash',)\n"
     ]
    }
   ],
   "source": [
    "students_in_college(\"Akash\", college = \"IIM\",city=\"Ahemdabad\")"
   ]
  },
  {
   "cell_type": "code",
   "execution_count": 12,
   "id": "d1b901c4",
   "metadata": {},
   "outputs": [
    {
     "name": "stdout",
     "output_type": "stream",
     "text": [
      "College:  IIM\n",
      "City:  Ahemdabad\n",
      "Students:  ('Akash', 'Amit')\n"
     ]
    }
   ],
   "source": [
    "students_in_college(\"Akash\",\"Amit\", college = \"IIM\",city=\"Ahemdabad\")"
   ]
  },
  {
   "cell_type": "code",
   "execution_count": 13,
   "id": "855952f4",
   "metadata": {},
   "outputs": [],
   "source": [
    "def students_in_college(*students, college, city=\"Bangalore\"):\n",
    "    \n",
    "    print(\"College: \", college)\n",
    "    print(\"City: \", city)\n",
    "    print(\"Students: \", students)"
   ]
  },
  {
   "cell_type": "code",
   "execution_count": 14,
   "id": "7495359a",
   "metadata": {},
   "outputs": [
    {
     "ename": "TypeError",
     "evalue": "students_in_college() missing 1 required keyword-only argument: 'college'",
     "output_type": "error",
     "traceback": [
      "\u001b[1;31m---------------------------------------------------------------------------\u001b[0m",
      "\u001b[1;31mTypeError\u001b[0m                                 Traceback (most recent call last)",
      "Input \u001b[1;32mIn [14]\u001b[0m, in \u001b[0;36m<cell line: 1>\u001b[1;34m()\u001b[0m\n\u001b[1;32m----> 1\u001b[0m \u001b[43mstudents_in_college\u001b[49m\u001b[43m(\u001b[49m\u001b[38;5;124;43m\"\u001b[39;49m\u001b[38;5;124;43mAmit\u001b[39;49m\u001b[38;5;124;43m\"\u001b[39;49m\u001b[43m)\u001b[49m\n",
      "\u001b[1;31mTypeError\u001b[0m: students_in_college() missing 1 required keyword-only argument: 'college'"
     ]
    }
   ],
   "source": [
    "students_in_college(\"Amit\")"
   ]
  },
  {
   "cell_type": "code",
   "execution_count": 15,
   "id": "edf02ba1",
   "metadata": {},
   "outputs": [
    {
     "ename": "TypeError",
     "evalue": "students_in_college() missing 1 required keyword-only argument: 'college'",
     "output_type": "error",
     "traceback": [
      "\u001b[1;31m---------------------------------------------------------------------------\u001b[0m",
      "\u001b[1;31mTypeError\u001b[0m                                 Traceback (most recent call last)",
      "Input \u001b[1;32mIn [15]\u001b[0m, in \u001b[0;36m<cell line: 1>\u001b[1;34m()\u001b[0m\n\u001b[1;32m----> 1\u001b[0m \u001b[43mstudents_in_college\u001b[49m\u001b[43m(\u001b[49m\u001b[38;5;124;43m\"\u001b[39;49m\u001b[38;5;124;43mAmit\u001b[39;49m\u001b[38;5;124;43m\"\u001b[39;49m\u001b[43m,\u001b[49m\u001b[38;5;124;43m\"\u001b[39;49m\u001b[38;5;124;43mIIM\u001b[39;49m\u001b[38;5;124;43m\"\u001b[39;49m\u001b[43m)\u001b[49m\n",
      "\u001b[1;31mTypeError\u001b[0m: students_in_college() missing 1 required keyword-only argument: 'college'"
     ]
    }
   ],
   "source": [
    "students_in_college(\"Amit\",\"IIM\")"
   ]
  },
  {
   "cell_type": "code",
   "execution_count": 16,
   "id": "43441148",
   "metadata": {},
   "outputs": [
    {
     "name": "stdout",
     "output_type": "stream",
     "text": [
      "College:  IIM\n",
      "City:  Bangalore\n",
      "Students:  ('Amit',)\n"
     ]
    }
   ],
   "source": [
    "students_in_college(\"Amit\",college = \"IIM\")"
   ]
  },
  {
   "cell_type": "markdown",
   "id": "c369327a",
   "metadata": {},
   "source": [
    "# When variable length argument is the first argument in the list all the remaining arguments become keyword only arguments"
   ]
  },
  {
   "cell_type": "code",
   "execution_count": null,
   "id": "7b832848",
   "metadata": {},
   "outputs": [],
   "source": []
  }
 ],
 "metadata": {
  "kernelspec": {
   "display_name": "Python 3 (ipykernel)",
   "language": "python",
   "name": "python3"
  },
  "language_info": {
   "codemirror_mode": {
    "name": "ipython",
    "version": 3
   },
   "file_extension": ".py",
   "mimetype": "text/x-python",
   "name": "python",
   "nbconvert_exporter": "python",
   "pygments_lexer": "ipython3",
   "version": "3.9.12"
  }
 },
 "nbformat": 4,
 "nbformat_minor": 5
}
