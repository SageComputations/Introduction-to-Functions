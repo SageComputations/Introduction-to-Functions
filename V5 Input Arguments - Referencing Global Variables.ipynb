{
 "cells": [
  {
   "cell_type": "code",
   "execution_count": 1,
   "id": "9c039f86",
   "metadata": {},
   "outputs": [],
   "source": [
    "def square(x):\n",
    "    \n",
    "    print(\"The square of\",x,\"is\",x*x)"
   ]
  },
  {
   "cell_type": "code",
   "execution_count": 2,
   "id": "ed3d6d79",
   "metadata": {},
   "outputs": [
    {
     "name": "stdout",
     "output_type": "stream",
     "text": [
      "The square of 3 is 9\n"
     ]
    }
   ],
   "source": [
    "square(3)"
   ]
  },
  {
   "cell_type": "code",
   "execution_count": 3,
   "id": "1017a986",
   "metadata": {},
   "outputs": [
    {
     "name": "stdout",
     "output_type": "stream",
     "text": [
      "The square of 10001 is 100020001\n"
     ]
    }
   ],
   "source": [
    "square(10001)"
   ]
  },
  {
   "cell_type": "code",
   "execution_count": 4,
   "id": "a515cfb9",
   "metadata": {},
   "outputs": [
    {
     "ename": "TypeError",
     "evalue": "can't multiply sequence by non-int of type 'str'",
     "output_type": "error",
     "traceback": [
      "\u001b[1;31m---------------------------------------------------------------------------\u001b[0m",
      "\u001b[1;31mTypeError\u001b[0m                                 Traceback (most recent call last)",
      "Input \u001b[1;32mIn [4]\u001b[0m, in \u001b[0;36m<cell line: 1>\u001b[1;34m()\u001b[0m\n\u001b[1;32m----> 1\u001b[0m \u001b[43msquare\u001b[49m\u001b[43m(\u001b[49m\u001b[38;5;124;43m\"\u001b[39;49m\u001b[38;5;124;43mJohn\u001b[39;49m\u001b[38;5;124;43m\"\u001b[39;49m\u001b[43m)\u001b[49m\n",
      "Input \u001b[1;32mIn [1]\u001b[0m, in \u001b[0;36msquare\u001b[1;34m(x)\u001b[0m\n\u001b[0;32m      1\u001b[0m \u001b[38;5;28;01mdef\u001b[39;00m \u001b[38;5;21msquare\u001b[39m(x):\n\u001b[1;32m----> 3\u001b[0m     \u001b[38;5;28mprint\u001b[39m(\u001b[38;5;124m\"\u001b[39m\u001b[38;5;124mThe square of\u001b[39m\u001b[38;5;124m\"\u001b[39m,x,\u001b[38;5;124m\"\u001b[39m\u001b[38;5;124mis\u001b[39m\u001b[38;5;124m\"\u001b[39m,\u001b[43mx\u001b[49m\u001b[38;5;241;43m*\u001b[39;49m\u001b[43mx\u001b[49m)\n",
      "\u001b[1;31mTypeError\u001b[0m: can't multiply sequence by non-int of type 'str'"
     ]
    }
   ],
   "source": [
    "square(\"John\")"
   ]
  },
  {
   "cell_type": "code",
   "execution_count": 5,
   "id": "e6f743ba",
   "metadata": {},
   "outputs": [
    {
     "name": "stdout",
     "output_type": "stream",
     "text": [
      "The square of 25 is 625\n"
     ]
    }
   ],
   "source": [
    "num = 25\n",
    "\n",
    "square(num)"
   ]
  },
  {
   "cell_type": "code",
   "execution_count": 6,
   "id": "8b4f218f",
   "metadata": {},
   "outputs": [
    {
     "name": "stdout",
     "output_type": "stream",
     "text": [
      "The square of 25 is 625\n",
      "The square of 100 is 10000\n"
     ]
    }
   ],
   "source": [
    "another_num = 100\n",
    "\n",
    "square(num)\n",
    "square(another_num)"
   ]
  },
  {
   "cell_type": "code",
   "execution_count": 7,
   "id": "e0c99ee7",
   "metadata": {},
   "outputs": [],
   "source": [
    "salary = 1000\n",
    "expense = 300\n",
    "\n",
    "def my_savings(a,b):\n",
    "    print(\"My total savings:\", salary - expense)"
   ]
  },
  {
   "cell_type": "code",
   "execution_count": 8,
   "id": "699d0f96",
   "metadata": {},
   "outputs": [
    {
     "name": "stdout",
     "output_type": "stream",
     "text": [
      "My total savings: 700\n"
     ]
    }
   ],
   "source": [
    "my_savings(1000,300)"
   ]
  },
  {
   "cell_type": "code",
   "execution_count": 9,
   "id": "7c18fd6a",
   "metadata": {},
   "outputs": [
    {
     "name": "stdout",
     "output_type": "stream",
     "text": [
      "My total savings: 700\n"
     ]
    }
   ],
   "source": [
    "my_savings(1200,400)"
   ]
  },
  {
   "cell_type": "code",
   "execution_count": 10,
   "id": "1a2f9ac1",
   "metadata": {},
   "outputs": [],
   "source": [
    "def my_actual_savings(a,b):\n",
    "    print(\"My actual savings:\", a-b)"
   ]
  },
  {
   "cell_type": "code",
   "execution_count": 11,
   "id": "61a15ec9",
   "metadata": {},
   "outputs": [
    {
     "name": "stdout",
     "output_type": "stream",
     "text": [
      "My actual savings: 800\n"
     ]
    }
   ],
   "source": [
    "my_actual_savings(1200,400)"
   ]
  },
  {
   "cell_type": "code",
   "execution_count": 12,
   "id": "acb61a2b",
   "metadata": {},
   "outputs": [],
   "source": [
    "salary = 2000\n",
    "expense = 700\n",
    "\n",
    "def calculate_savings(salary,expense):\n",
    "    print(\"My total savings:\", salary - expense)"
   ]
  },
  {
   "cell_type": "markdown",
   "id": "16749ca2",
   "metadata": {},
   "source": [
    "# Give your input arguments meaningful names\n",
    "## They will improve the usability and maintainibility of your functions"
   ]
  },
  {
   "cell_type": "code",
   "execution_count": 13,
   "id": "330444ec",
   "metadata": {},
   "outputs": [
    {
     "ename": "TypeError",
     "evalue": "calculate_savings() missing 2 required positional arguments: 'salary' and 'expense'",
     "output_type": "error",
     "traceback": [
      "\u001b[1;31m---------------------------------------------------------------------------\u001b[0m",
      "\u001b[1;31mTypeError\u001b[0m                                 Traceback (most recent call last)",
      "Input \u001b[1;32mIn [13]\u001b[0m, in \u001b[0;36m<cell line: 1>\u001b[1;34m()\u001b[0m\n\u001b[1;32m----> 1\u001b[0m \u001b[43mcalculate_savings\u001b[49m\u001b[43m(\u001b[49m\u001b[43m)\u001b[49m\n",
      "\u001b[1;31mTypeError\u001b[0m: calculate_savings() missing 2 required positional arguments: 'salary' and 'expense'"
     ]
    }
   ],
   "source": [
    "calculate_savings()"
   ]
  },
  {
   "cell_type": "code",
   "execution_count": 14,
   "id": "c2a00975",
   "metadata": {},
   "outputs": [],
   "source": [
    "#Even though we have global variables with same name the function doesn't reference those variables it requires the input arguments to be specified"
   ]
  },
  {
   "cell_type": "code",
   "execution_count": 15,
   "id": "9ba2ad58",
   "metadata": {},
   "outputs": [
    {
     "name": "stdout",
     "output_type": "stream",
     "text": [
      "My total savings: 1300\n"
     ]
    }
   ],
   "source": [
    "calculate_savings(salary,expense)"
   ]
  },
  {
   "cell_type": "code",
   "execution_count": 16,
   "id": "46c58539",
   "metadata": {},
   "outputs": [
    {
     "name": "stdout",
     "output_type": "stream",
     "text": [
      "My total savings: 2000\n"
     ]
    }
   ],
   "source": [
    "calculate_savings(3000,1000)"
   ]
  },
  {
   "cell_type": "code",
   "execution_count": 17,
   "id": "37be3a4d",
   "metadata": {},
   "outputs": [
    {
     "name": "stdout",
     "output_type": "stream",
     "text": [
      "My total savings: 1500\n"
     ]
    }
   ],
   "source": [
    "total_salary = 4000\n",
    "total_expense = 2500\n",
    "\n",
    "calculate_savings(total_salary,total_expense)"
   ]
  },
  {
   "cell_type": "code",
   "execution_count": null,
   "id": "f76786b9",
   "metadata": {},
   "outputs": [],
   "source": []
  }
 ],
 "metadata": {
  "kernelspec": {
   "display_name": "Python 3 (ipykernel)",
   "language": "python",
   "name": "python3"
  },
  "language_info": {
   "codemirror_mode": {
    "name": "ipython",
    "version": 3
   },
   "file_extension": ".py",
   "mimetype": "text/x-python",
   "name": "python",
   "nbconvert_exporter": "python",
   "pygments_lexer": "ipython3",
   "version": "3.9.12"
  }
 },
 "nbformat": 4,
 "nbformat_minor": 5
}
