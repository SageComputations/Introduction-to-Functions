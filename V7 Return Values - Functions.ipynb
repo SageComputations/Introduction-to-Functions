{
 "cells": [
  {
   "cell_type": "code",
   "execution_count": 1,
   "id": "fdd564c4",
   "metadata": {},
   "outputs": [],
   "source": [
    "def subtract(num_1, num_2):\n",
    "    \n",
    "    result = num_1 - num_2"
   ]
  },
  {
   "cell_type": "code",
   "execution_count": 2,
   "id": "033e7dd7",
   "metadata": {},
   "outputs": [],
   "source": [
    "subtract(10, 7.7)"
   ]
  },
  {
   "cell_type": "code",
   "execution_count": 3,
   "id": "23b1d329",
   "metadata": {},
   "outputs": [],
   "source": [
    "r = subtract(100,50)"
   ]
  },
  {
   "cell_type": "code",
   "execution_count": 4,
   "id": "41a56ba1",
   "metadata": {},
   "outputs": [
    {
     "name": "stdout",
     "output_type": "stream",
     "text": [
      "None\n"
     ]
    }
   ],
   "source": [
    "print(r)"
   ]
  },
  {
   "cell_type": "code",
   "execution_count": 5,
   "id": "68e67ca5",
   "metadata": {},
   "outputs": [],
   "source": [
    "#None is a special value in python - indicates no value or nothing"
   ]
  },
  {
   "cell_type": "code",
   "execution_count": 6,
   "id": "9204b5cc",
   "metadata": {},
   "outputs": [
    {
     "data": {
      "text/plain": [
       "NoneType"
      ]
     },
     "execution_count": 6,
     "metadata": {},
     "output_type": "execute_result"
    }
   ],
   "source": [
    "type(r)"
   ]
  },
  {
   "cell_type": "code",
   "execution_count": 7,
   "id": "41d34659",
   "metadata": {},
   "outputs": [],
   "source": [
    "def subtract_returns_none_by_default(num_1, num_2):\n",
    "    \n",
    "    result = num_1 - num_2\n",
    "    \n",
    "    return None      #by deafault also none is returned"
   ]
  },
  {
   "cell_type": "markdown",
   "id": "2e65e9a6",
   "metadata": {},
   "source": [
    "# The \"return\" keyword Returns a value from the function"
   ]
  },
  {
   "cell_type": "code",
   "execution_count": 8,
   "id": "d09db24d",
   "metadata": {},
   "outputs": [
    {
     "name": "stdout",
     "output_type": "stream",
     "text": [
      "None\n"
     ]
    }
   ],
   "source": [
    "subtract_returns_none_by_default(100,50)\n",
    "\n",
    "print(r)"
   ]
  },
  {
   "cell_type": "code",
   "execution_count": 9,
   "id": "6ffffa72",
   "metadata": {},
   "outputs": [],
   "source": [
    "def subtract_returns_a_result(num_1, num_2):\n",
    "    \n",
    "    result = num_1 - num_2\n",
    "    \n",
    "    return result"
   ]
  },
  {
   "cell_type": "code",
   "execution_count": 10,
   "id": "4c9db84a",
   "metadata": {},
   "outputs": [
    {
     "name": "stdout",
     "output_type": "stream",
     "text": [
      "50\n"
     ]
    }
   ],
   "source": [
    "r = subtract_returns_a_result(100,50)\n",
    "\n",
    "print(r)"
   ]
  },
  {
   "cell_type": "code",
   "execution_count": 11,
   "id": "b2d6bfa8",
   "metadata": {},
   "outputs": [],
   "source": [
    "def length(some_list):\n",
    "    \n",
    "    count = 0\n",
    "    for element in some_list:\n",
    "        count += 1\n",
    "        \n",
    "    print(\"The length of the list is\", count)\n",
    "    \n",
    "    return count"
   ]
  },
  {
   "cell_type": "code",
   "execution_count": 12,
   "id": "2081b469",
   "metadata": {},
   "outputs": [
    {
     "name": "stdout",
     "output_type": "stream",
     "text": [
      "The length of the list is 4\n"
     ]
    }
   ],
   "source": [
    "l = length([100,101,102,103])"
   ]
  },
  {
   "cell_type": "code",
   "execution_count": 13,
   "id": "fa808394",
   "metadata": {},
   "outputs": [
    {
     "name": "stdout",
     "output_type": "stream",
     "text": [
      "4\n"
     ]
    }
   ],
   "source": [
    "print(l)"
   ]
  },
  {
   "cell_type": "code",
   "execution_count": 14,
   "id": "896835b9",
   "metadata": {},
   "outputs": [],
   "source": [
    "def find_max_in_list(some_list):\n",
    "    \n",
    "    max_element = some_list[0]\n",
    "    \n",
    "    length = len(some_list)\n",
    "    \n",
    "    for i in range(1,length):\n",
    "        \n",
    "        if some_list[i] > max_element:\n",
    "            max_element = some_list[i]\n",
    "            \n",
    "    return max_element\n",
    "        \n",
    "        "
   ]
  },
  {
   "cell_type": "code",
   "execution_count": 15,
   "id": "c0dd34d6",
   "metadata": {},
   "outputs": [],
   "source": [
    "num_list = [5,6,2,3,9,11,18,19,56,34,67,39]"
   ]
  },
  {
   "cell_type": "code",
   "execution_count": 16,
   "id": "7a7987e0",
   "metadata": {},
   "outputs": [
    {
     "name": "stdout",
     "output_type": "stream",
     "text": [
      "67\n"
     ]
    }
   ],
   "source": [
    "max_element = find_max_in_list(num_list)\n",
    "\n",
    "print(max_element)"
   ]
  },
  {
   "cell_type": "code",
   "execution_count": 17,
   "id": "d9a63043",
   "metadata": {},
   "outputs": [],
   "source": [
    "num_list.append(99)"
   ]
  },
  {
   "cell_type": "code",
   "execution_count": 18,
   "id": "387cec4a",
   "metadata": {},
   "outputs": [
    {
     "name": "stdout",
     "output_type": "stream",
     "text": [
      "99\n"
     ]
    }
   ],
   "source": [
    "max_element = find_max_in_list(num_list)\n",
    "\n",
    "print(max_element)"
   ]
  },
  {
   "cell_type": "code",
   "execution_count": 19,
   "id": "8dcb74aa",
   "metadata": {},
   "outputs": [],
   "source": [
    "def empty_return(x,y):\n",
    "    total = x + y\n",
    "    \n",
    "    return"
   ]
  },
  {
   "cell_type": "code",
   "execution_count": 20,
   "id": "5da34a48",
   "metadata": {},
   "outputs": [],
   "source": [
    "result = empty_return(10,20)"
   ]
  },
  {
   "cell_type": "code",
   "execution_count": 21,
   "id": "77bc06ca",
   "metadata": {},
   "outputs": [
    {
     "name": "stdout",
     "output_type": "stream",
     "text": [
      "None\n"
     ]
    }
   ],
   "source": [
    "print(result)"
   ]
  },
  {
   "cell_type": "code",
   "execution_count": 22,
   "id": "4c24ac0d",
   "metadata": {},
   "outputs": [
    {
     "data": {
      "text/plain": [
       "NoneType"
      ]
     },
     "execution_count": 22,
     "metadata": {},
     "output_type": "execute_result"
    }
   ],
   "source": [
    "type(result)"
   ]
  },
  {
   "cell_type": "code",
   "execution_count": null,
   "id": "3b8fc4e4",
   "metadata": {},
   "outputs": [],
   "source": []
  }
 ],
 "metadata": {
  "kernelspec": {
   "display_name": "Python 3 (ipykernel)",
   "language": "python",
   "name": "python3"
  },
  "language_info": {
   "codemirror_mode": {
    "name": "ipython",
    "version": 3
   },
   "file_extension": ".py",
   "mimetype": "text/x-python",
   "name": "python",
   "nbconvert_exporter": "python",
   "pygments_lexer": "ipython3",
   "version": "3.9.12"
  }
 },
 "nbformat": 4,
 "nbformat_minor": 5
}
