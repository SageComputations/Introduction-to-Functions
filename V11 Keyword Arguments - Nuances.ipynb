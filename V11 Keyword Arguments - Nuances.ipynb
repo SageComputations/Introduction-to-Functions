{
 "cells": [
  {
   "cell_type": "code",
   "execution_count": 1,
   "id": "0737ecdf",
   "metadata": {},
   "outputs": [],
   "source": [
    "def total_score(math,physics,chemistry,biology):\n",
    "    \n",
    "    print('Math:',math,\"Physics:\",physics,\"Chemistry:\",chemistry,\"Biology:\",biology)\n",
    "    return math + physics + chemistry + biology"
   ]
  },
  {
   "cell_type": "code",
   "execution_count": 2,
   "id": "6af964e7",
   "metadata": {},
   "outputs": [
    {
     "name": "stdout",
     "output_type": "stream",
     "text": [
      "Math: 100 Physics: 81 Chemistry: 96 Biology: 100\n"
     ]
    },
    {
     "data": {
      "text/plain": [
       "377"
      ]
     },
     "execution_count": 2,
     "metadata": {},
     "output_type": "execute_result"
    }
   ],
   "source": [
    "total_score(biology = 100, math = 100, chemistry = 96, physics = 81)"
   ]
  },
  {
   "cell_type": "code",
   "execution_count": 3,
   "id": "31d4ab75",
   "metadata": {},
   "outputs": [
    {
     "name": "stdout",
     "output_type": "stream",
     "text": [
      "Math: 100 Physics: 81 Chemistry: 96 Biology: 100\n"
     ]
    },
    {
     "data": {
      "text/plain": [
       "377"
      ]
     },
     "execution_count": 3,
     "metadata": {},
     "output_type": "execute_result"
    }
   ],
   "source": [
    "total_score( chemistry = 96, physics = 81, biology = 100, math = 100)"
   ]
  },
  {
   "cell_type": "markdown",
   "id": "d131b757",
   "metadata": {},
   "source": [
    "# When using keyword args order of args does not matter, order only matters in case of positional args"
   ]
  },
  {
   "cell_type": "code",
   "execution_count": 4,
   "id": "5120d17b",
   "metadata": {},
   "outputs": [
    {
     "ename": "TypeError",
     "evalue": "total_score() got multiple values for argument 'math'",
     "output_type": "error",
     "traceback": [
      "\u001b[1;31m---------------------------------------------------------------------------\u001b[0m",
      "\u001b[1;31mTypeError\u001b[0m                                 Traceback (most recent call last)",
      "Input \u001b[1;32mIn [4]\u001b[0m, in \u001b[0;36m<cell line: 1>\u001b[1;34m()\u001b[0m\n\u001b[1;32m----> 1\u001b[0m \u001b[43mtotal_score\u001b[49m\u001b[43m(\u001b[49m\u001b[43m \u001b[49m\u001b[38;5;241;43m96\u001b[39;49m\u001b[43m,\u001b[49m\u001b[43m \u001b[49m\u001b[43mphysics\u001b[49m\u001b[43m \u001b[49m\u001b[38;5;241;43m=\u001b[39;49m\u001b[43m \u001b[49m\u001b[38;5;241;43m81\u001b[39;49m\u001b[43m,\u001b[49m\u001b[43m \u001b[49m\u001b[43mbiology\u001b[49m\u001b[43m \u001b[49m\u001b[38;5;241;43m=\u001b[39;49m\u001b[43m \u001b[49m\u001b[38;5;241;43m100\u001b[39;49m\u001b[43m,\u001b[49m\u001b[43m \u001b[49m\u001b[43mmath\u001b[49m\u001b[43m \u001b[49m\u001b[38;5;241;43m=\u001b[39;49m\u001b[43m \u001b[49m\u001b[38;5;241;43m100\u001b[39;49m\u001b[43m)\u001b[49m\n",
      "\u001b[1;31mTypeError\u001b[0m: total_score() got multiple values for argument 'math'"
     ]
    }
   ],
   "source": [
    "total_score( 96, physics = 81, biology = 100, math = 100)"
   ]
  },
  {
   "cell_type": "code",
   "execution_count": 5,
   "id": "c64ad848",
   "metadata": {},
   "outputs": [
    {
     "ename": "SyntaxError",
     "evalue": "keyword argument repeated: math (2906994426.py, line 1)",
     "output_type": "error",
     "traceback": [
      "\u001b[1;36m  Input \u001b[1;32mIn [5]\u001b[1;36m\u001b[0m\n\u001b[1;33m    total_score( math = 96, physics = 81, biology = 100, math = 100)\u001b[0m\n\u001b[1;37m                                                         ^\u001b[0m\n\u001b[1;31mSyntaxError\u001b[0m\u001b[1;31m:\u001b[0m keyword argument repeated: math\n"
     ]
    }
   ],
   "source": [
    "total_score( math = 96, physics = 81, biology = 100, math = 100)"
   ]
  },
  {
   "cell_type": "code",
   "execution_count": 6,
   "id": "3191b5cb",
   "metadata": {},
   "outputs": [],
   "source": [
    "def print_student_detail(name, school, math, physics, chemistry, biology):\n",
    "    \n",
    "    total = math + physics + chemistry + biology\n",
    "    \n",
    "    print(\"Name:\", name)\n",
    "    print(\"School:\", school)\n",
    "    print(\"Score:\", total)"
   ]
  },
  {
   "cell_type": "code",
   "execution_count": 8,
   "id": "ac889af1",
   "metadata": {},
   "outputs": [
    {
     "name": "stdout",
     "output_type": "stream",
     "text": [
      "Name: Alice\n",
      "School: Columbia\n",
      "Score: 381\n"
     ]
    }
   ],
   "source": [
    "print_student_detail('Alice','Columbia',\n",
    "                     math = 100, physics = 89, chemistry = 97, biology = 95)"
   ]
  },
  {
   "cell_type": "code",
   "execution_count": 9,
   "id": "5fc682f3",
   "metadata": {},
   "outputs": [
    {
     "name": "stdout",
     "output_type": "stream",
     "text": [
      "Name: Columbia\n",
      "School: Alice\n",
      "Score: 381\n"
     ]
    }
   ],
   "source": [
    "print_student_detail('Columbia', 'Alice',\n",
    "                     math = 100, physics = 89, chemistry = 97, biology = 95)"
   ]
  },
  {
   "cell_type": "markdown",
   "id": "7bec4478",
   "metadata": {},
   "source": [
    "# In order to prevent wrong method invocation we need keyword arguments"
   ]
  },
  {
   "cell_type": "code",
   "execution_count": 10,
   "id": "9175612b",
   "metadata": {},
   "outputs": [
    {
     "name": "stdout",
     "output_type": "stream",
     "text": [
      "Name: Alice\n",
      "School: Columbia\n",
      "Score: 381\n"
     ]
    }
   ],
   "source": [
    "print_student_detail(name = 'Alice',school ='Columbia',\n",
    "                     math = 100, physics = 89, chemistry = 97, biology = 95)"
   ]
  },
  {
   "cell_type": "code",
   "execution_count": 11,
   "id": "bb2de613",
   "metadata": {},
   "outputs": [
    {
     "data": {
      "text/plain": [
       "[1, 3, 5, 6, 7, 9]"
      ]
     },
     "execution_count": 11,
     "metadata": {},
     "output_type": "execute_result"
    }
   ],
   "source": [
    "num_list = [3,6,1,9,5,7]\n",
    "\n",
    "sorted(num_list)"
   ]
  },
  {
   "cell_type": "code",
   "execution_count": 13,
   "id": "0c0aaf35",
   "metadata": {},
   "outputs": [
    {
     "data": {
      "text/plain": [
       "[1, 3, 5, 6, 7, 9]"
      ]
     },
     "execution_count": 13,
     "metadata": {},
     "output_type": "execute_result"
    }
   ],
   "source": [
    "sorted(num_list, reverse = False)  #By default reverse is false"
   ]
  },
  {
   "cell_type": "code",
   "execution_count": 14,
   "id": "12f572d0",
   "metadata": {},
   "outputs": [
    {
     "data": {
      "text/plain": [
       "[9, 7, 6, 5, 3, 1]"
      ]
     },
     "execution_count": 14,
     "metadata": {},
     "output_type": "execute_result"
    }
   ],
   "source": [
    "sorted(num_list, reverse = True)"
   ]
  },
  {
   "cell_type": "code",
   "execution_count": 15,
   "id": "41acaffc",
   "metadata": {},
   "outputs": [
    {
     "name": "stdout",
     "output_type": "stream",
     "text": [
      "Anand|Bill|Bat\n"
     ]
    }
   ],
   "source": [
    "print(\"Anand\",\"Bill\",\"Bat\", sep = \"|\")"
   ]
  },
  {
   "cell_type": "code",
   "execution_count": 16,
   "id": "eabcecc4",
   "metadata": {},
   "outputs": [
    {
     "name": "stdout",
     "output_type": "stream",
     "text": [
      "Anand|Bill|Bat*****"
     ]
    }
   ],
   "source": [
    "print(\"Anand\",\"Bill\",\"Bat\", sep = \"|\",end = \"*****\")"
   ]
  },
  {
   "cell_type": "code",
   "execution_count": 17,
   "id": "4138eb9b",
   "metadata": {},
   "outputs": [],
   "source": [
    "#These are examples of built in functions where we use keyword arguments in order to make things clear"
   ]
  },
  {
   "cell_type": "code",
   "execution_count": null,
   "id": "d17eabe2",
   "metadata": {},
   "outputs": [],
   "source": []
  }
 ],
 "metadata": {
  "kernelspec": {
   "display_name": "Python 3 (ipykernel)",
   "language": "python",
   "name": "python3"
  },
  "language_info": {
   "codemirror_mode": {
    "name": "ipython",
    "version": 3
   },
   "file_extension": ".py",
   "mimetype": "text/x-python",
   "name": "python",
   "nbconvert_exporter": "python",
   "pygments_lexer": "ipython3",
   "version": "3.9.12"
  }
 },
 "nbformat": 4,
 "nbformat_minor": 5
}
