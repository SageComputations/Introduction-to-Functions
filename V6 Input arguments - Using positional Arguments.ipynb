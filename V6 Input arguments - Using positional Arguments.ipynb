{
 "cells": [
  {
   "cell_type": "code",
   "execution_count": 1,
   "id": "8a6917c1",
   "metadata": {},
   "outputs": [],
   "source": [
    "def print_many_times(string, times):\n",
    "    \n",
    "    for i in range(times):\n",
    "        print(string)"
   ]
  },
  {
   "cell_type": "code",
   "execution_count": 3,
   "id": "08c42776",
   "metadata": {},
   "outputs": [
    {
     "name": "stdout",
     "output_type": "stream",
     "text": [
      "Sage Computations Subscribe\n",
      "Sage Computations Subscribe\n",
      "Sage Computations Subscribe\n",
      "Sage Computations Subscribe\n",
      "Sage Computations Subscribe\n"
     ]
    }
   ],
   "source": [
    "print_many_times(\"Sage Computations Subscribe\",5)"
   ]
  },
  {
   "cell_type": "code",
   "execution_count": 4,
   "id": "a4363254",
   "metadata": {},
   "outputs": [
    {
     "ename": "TypeError",
     "evalue": "'str' object cannot be interpreted as an integer",
     "output_type": "error",
     "traceback": [
      "\u001b[1;31m---------------------------------------------------------------------------\u001b[0m",
      "\u001b[1;31mTypeError\u001b[0m                                 Traceback (most recent call last)",
      "Input \u001b[1;32mIn [4]\u001b[0m, in \u001b[0;36m<cell line: 1>\u001b[1;34m()\u001b[0m\n\u001b[1;32m----> 1\u001b[0m \u001b[43mprint_many_times\u001b[49m\u001b[43m(\u001b[49m\u001b[38;5;241;43m5\u001b[39;49m\u001b[43m,\u001b[49m\u001b[38;5;124;43m\"\u001b[39;49m\u001b[38;5;124;43mSage Computations Subscribe\u001b[39;49m\u001b[38;5;124;43m\"\u001b[39;49m\u001b[43m)\u001b[49m\n",
      "Input \u001b[1;32mIn [1]\u001b[0m, in \u001b[0;36mprint_many_times\u001b[1;34m(string, times)\u001b[0m\n\u001b[0;32m      1\u001b[0m \u001b[38;5;28;01mdef\u001b[39;00m \u001b[38;5;21mprint_many_times\u001b[39m(string, times):\n\u001b[1;32m----> 3\u001b[0m     \u001b[38;5;28;01mfor\u001b[39;00m i \u001b[38;5;129;01min\u001b[39;00m \u001b[38;5;28;43mrange\u001b[39;49m\u001b[43m(\u001b[49m\u001b[43mtimes\u001b[49m\u001b[43m)\u001b[49m:\n\u001b[0;32m      4\u001b[0m         \u001b[38;5;28mprint\u001b[39m(string)\n",
      "\u001b[1;31mTypeError\u001b[0m: 'str' object cannot be interpreted as an integer"
     ]
    }
   ],
   "source": [
    "print_many_times(5,\"Sage Computations Subscribe\")"
   ]
  },
  {
   "cell_type": "code",
   "execution_count": 6,
   "id": "fb0d920f",
   "metadata": {},
   "outputs": [],
   "source": [
    "def print_many_times_with_doc(string,times):\n",
    "    \n",
    "    \n",
    "    \n",
    "    \"\"\"\n",
    "    Prints the specified string the specified number of times\n",
    "    \n",
    "    The first argument is the string you want printed, the second argument is the number of times you\n",
    "    want the string to be printed\n",
    "    \n",
    "    Parameters (both required):\n",
    "    string(str) : The string to be printed\n",
    "    times(int): The number of times the string should be printed\n",
    "    \n",
    "    Returns\n",
    "    No return value\n",
    "    \"\"\"\n",
    "    for i in range(times):\n",
    "         print(string)"
   ]
  },
  {
   "cell_type": "code",
   "execution_count": 7,
   "id": "72a710b6",
   "metadata": {},
   "outputs": [
    {
     "data": {
      "text/plain": [
       "'\\n    Prints the specified string the specified number of times\\n    \\n    The first argument is the string you want printed, the second argument is the number of times you\\n    want the string to be printed\\n    \\n    Parameters (both required):\\n    string(str) : The string to be printed\\n    times(int): The number of times the string should be printed\\n    \\n    Returns\\n    No return value\\n    '"
      ]
     },
     "execution_count": 7,
     "metadata": {},
     "output_type": "execute_result"
    }
   ],
   "source": [
    "print_many_times_with_doc.__doc__"
   ]
  },
  {
   "cell_type": "code",
   "execution_count": 8,
   "id": "e63e99a8",
   "metadata": {},
   "outputs": [
    {
     "name": "stdout",
     "output_type": "stream",
     "text": [
      "\n",
      "    Prints the specified string the specified number of times\n",
      "    \n",
      "    The first argument is the string you want printed, the second argument is the number of times you\n",
      "    want the string to be printed\n",
      "    \n",
      "    Parameters (both required):\n",
      "    string(str) : The string to be printed\n",
      "    times(int): The number of times the string should be printed\n",
      "    \n",
      "    Returns\n",
      "    No return value\n",
      "    \n"
     ]
    }
   ],
   "source": [
    "print(print_many_times_with_doc.__doc__)"
   ]
  },
  {
   "cell_type": "code",
   "execution_count": 9,
   "id": "3a4ee4ae",
   "metadata": {},
   "outputs": [],
   "source": [
    "def print_higher_number(a,b):\n",
    "    \n",
    "    if a > b:\n",
    "        print(\"Higher number is\", a)\n",
    "    else:\n",
    "        print(\"Higher number is\", b)"
   ]
  },
  {
   "cell_type": "code",
   "execution_count": 10,
   "id": "d1e0a971",
   "metadata": {},
   "outputs": [
    {
     "name": "stdout",
     "output_type": "stream",
     "text": [
      "Higher number is 10\n"
     ]
    }
   ],
   "source": [
    "print_higher_number(10,5)"
   ]
  },
  {
   "cell_type": "code",
   "execution_count": 11,
   "id": "9ea7fe07",
   "metadata": {},
   "outputs": [
    {
     "name": "stdout",
     "output_type": "stream",
     "text": [
      "Higher number is 20\n"
     ]
    }
   ],
   "source": [
    "print_higher_number(10,20)"
   ]
  },
  {
   "cell_type": "code",
   "execution_count": 12,
   "id": "97501d5a",
   "metadata": {},
   "outputs": [],
   "source": [
    "def print_higher_number_with_error(a,b):\n",
    "    \n",
    "    if a > b:\n",
    "        print(\"Higher number is \", a)\n",
    "    else:\n",
    "        print(\"Higher number is \", b)\n",
    "        \n",
    "        result = b + \"a\""
   ]
  },
  {
   "cell_type": "code",
   "execution_count": 14,
   "id": "b6378e9f",
   "metadata": {},
   "outputs": [
    {
     "name": "stdout",
     "output_type": "stream",
     "text": [
      "Higher number is  10\n"
     ]
    }
   ],
   "source": [
    "print_higher_number_with_error(10,5) #Only the if block executes"
   ]
  },
  {
   "cell_type": "code",
   "execution_count": 15,
   "id": "e5167a17",
   "metadata": {},
   "outputs": [
    {
     "name": "stdout",
     "output_type": "stream",
     "text": [
      "Higher number is  20\n"
     ]
    },
    {
     "ename": "TypeError",
     "evalue": "unsupported operand type(s) for +: 'int' and 'str'",
     "output_type": "error",
     "traceback": [
      "\u001b[1;31m---------------------------------------------------------------------------\u001b[0m",
      "\u001b[1;31mTypeError\u001b[0m                                 Traceback (most recent call last)",
      "Input \u001b[1;32mIn [15]\u001b[0m, in \u001b[0;36m<cell line: 1>\u001b[1;34m()\u001b[0m\n\u001b[1;32m----> 1\u001b[0m \u001b[43mprint_higher_number_with_error\u001b[49m\u001b[43m(\u001b[49m\u001b[38;5;241;43m10\u001b[39;49m\u001b[43m,\u001b[49m\u001b[38;5;241;43m20\u001b[39;49m\u001b[43m)\u001b[49m\n",
      "Input \u001b[1;32mIn [12]\u001b[0m, in \u001b[0;36mprint_higher_number_with_error\u001b[1;34m(a, b)\u001b[0m\n\u001b[0;32m      5\u001b[0m \u001b[38;5;28;01melse\u001b[39;00m:\n\u001b[0;32m      6\u001b[0m     \u001b[38;5;28mprint\u001b[39m(\u001b[38;5;124m\"\u001b[39m\u001b[38;5;124mHigher number is \u001b[39m\u001b[38;5;124m\"\u001b[39m, b)\n\u001b[1;32m----> 8\u001b[0m     result \u001b[38;5;241m=\u001b[39m \u001b[43mb\u001b[49m\u001b[43m \u001b[49m\u001b[38;5;241;43m+\u001b[39;49m\u001b[43m \u001b[49m\u001b[38;5;124;43m\"\u001b[39;49m\u001b[38;5;124;43ma\u001b[39;49m\u001b[38;5;124;43m\"\u001b[39;49m\n",
      "\u001b[1;31mTypeError\u001b[0m: unsupported operand type(s) for +: 'int' and 'str'"
     ]
    }
   ],
   "source": [
    "print_higher_number_with_error(10,20) "
   ]
  },
  {
   "cell_type": "code",
   "execution_count": 16,
   "id": "e8faaeb5",
   "metadata": {},
   "outputs": [],
   "source": [
    "#else block has an error , If your code has multiple parts test all the parts"
   ]
  },
  {
   "cell_type": "code",
   "execution_count": 17,
   "id": "57174137",
   "metadata": {},
   "outputs": [],
   "source": [
    "def multiply(num_1, num_2, num_3):\n",
    "    \n",
    "    print(\"Multiplication result: \", num_1 * num_2 * num_3)"
   ]
  },
  {
   "cell_type": "code",
   "execution_count": 18,
   "id": "7032fd82",
   "metadata": {},
   "outputs": [
    {
     "name": "stdout",
     "output_type": "stream",
     "text": [
      "Multiplication result:  9.2\n"
     ]
    }
   ],
   "source": [
    "multiply(1,2.3,4)"
   ]
  },
  {
   "cell_type": "code",
   "execution_count": 19,
   "id": "d3dee5e7",
   "metadata": {},
   "outputs": [
    {
     "ename": "TypeError",
     "evalue": "multiply() takes 3 positional arguments but 4 were given",
     "output_type": "error",
     "traceback": [
      "\u001b[1;31m---------------------------------------------------------------------------\u001b[0m",
      "\u001b[1;31mTypeError\u001b[0m                                 Traceback (most recent call last)",
      "Input \u001b[1;32mIn [19]\u001b[0m, in \u001b[0;36m<cell line: 1>\u001b[1;34m()\u001b[0m\n\u001b[1;32m----> 1\u001b[0m \u001b[43mmultiply\u001b[49m\u001b[43m(\u001b[49m\u001b[38;5;241;43m1\u001b[39;49m\u001b[43m,\u001b[49m\u001b[38;5;241;43m2.5\u001b[39;49m\u001b[43m,\u001b[49m\u001b[38;5;241;43m6\u001b[39;49m\u001b[43m,\u001b[49m\u001b[38;5;241;43m7\u001b[39;49m\u001b[43m)\u001b[49m\n",
      "\u001b[1;31mTypeError\u001b[0m: multiply() takes 3 positional arguments but 4 were given"
     ]
    }
   ],
   "source": [
    "multiply(1,2.5,6,7)"
   ]
  },
  {
   "cell_type": "markdown",
   "id": "b85518b6",
   "metadata": {},
   "source": [
    "# Input arguments can be of any data type\n",
    "### Primitive types , comples types and even custom data types"
   ]
  },
  {
   "cell_type": "code",
   "execution_count": 20,
   "id": "04c56327",
   "metadata": {},
   "outputs": [],
   "source": [
    "def length(some_list):\n",
    "    \n",
    "    count = 0\n",
    "    for element in some_list:\n",
    "        count += 1\n",
    "        \n",
    "    print(\"The length of the list is\", count)"
   ]
  },
  {
   "cell_type": "code",
   "execution_count": 21,
   "id": "b70eb038",
   "metadata": {},
   "outputs": [
    {
     "name": "stdout",
     "output_type": "stream",
     "text": [
      "The length of the list is 7\n"
     ]
    }
   ],
   "source": [
    "num_list = [4,6,12,7,2,9,23]\n",
    "\n",
    "length(num_list)"
   ]
  },
  {
   "cell_type": "code",
   "execution_count": 22,
   "id": "376fd8cc",
   "metadata": {},
   "outputs": [
    {
     "name": "stdout",
     "output_type": "stream",
     "text": [
      "The length of the list is 4\n"
     ]
    }
   ],
   "source": [
    "cars_list = ['Toyota','Honda','Hyundai','Ford']\n",
    "\n",
    "length(cars_list)"
   ]
  },
  {
   "cell_type": "code",
   "execution_count": 23,
   "id": "ba2b7a40",
   "metadata": {},
   "outputs": [
    {
     "name": "stdout",
     "output_type": "stream",
     "text": [
      "The length of the list is 3\n"
     ]
    }
   ],
   "source": [
    "length([4,8,9.7])"
   ]
  },
  {
   "cell_type": "code",
   "execution_count": 24,
   "id": "d5bdf1ce",
   "metadata": {},
   "outputs": [
    {
     "data": {
      "text/plain": [
       "4"
      ]
     },
     "execution_count": 24,
     "metadata": {},
     "output_type": "execute_result"
    }
   ],
   "source": [
    "num_cars = len(cars_list)\n",
    "\n",
    "num_cars"
   ]
  },
  {
   "cell_type": "code",
   "execution_count": 25,
   "id": "7f191843",
   "metadata": {},
   "outputs": [],
   "source": [
    "#The sustom length function is similar to built-in len function but with a subtle difference:"
   ]
  },
  {
   "cell_type": "code",
   "execution_count": 26,
   "id": "6e089bcf",
   "metadata": {},
   "outputs": [
    {
     "name": "stdout",
     "output_type": "stream",
     "text": [
      "The length of the list is 4\n"
     ]
    }
   ],
   "source": [
    "num_cars = length(cars_list)"
   ]
  },
  {
   "cell_type": "code",
   "execution_count": 28,
   "id": "5cc2ce1d",
   "metadata": {},
   "outputs": [],
   "source": [
    "num_cars  #The variable does not hold any value"
   ]
  },
  {
   "cell_type": "code",
   "execution_count": 31,
   "id": "c3dae384",
   "metadata": {},
   "outputs": [
    {
     "name": "stdout",
     "output_type": "stream",
     "text": [
      "None\n"
     ]
    }
   ],
   "source": [
    "print(num_cars)  #Return value is missing"
   ]
  },
  {
   "cell_type": "code",
   "execution_count": null,
   "id": "51f02c13",
   "metadata": {},
   "outputs": [],
   "source": []
  }
 ],
 "metadata": {
  "kernelspec": {
   "display_name": "Python 3 (ipykernel)",
   "language": "python",
   "name": "python3"
  },
  "language_info": {
   "codemirror_mode": {
    "name": "ipython",
    "version": 3
   },
   "file_extension": ".py",
   "mimetype": "text/x-python",
   "name": "python",
   "nbconvert_exporter": "python",
   "pygments_lexer": "ipython3",
   "version": "3.9.12"
  }
 },
 "nbformat": 4,
 "nbformat_minor": 5
}
